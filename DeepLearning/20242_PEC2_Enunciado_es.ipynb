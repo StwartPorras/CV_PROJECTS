{
  "cells": [
    {
      "cell_type": "markdown",
      "metadata": {
        "id": "p8_xNUTcVfLF"
      },
      "source": [
        "<div style=\"width: 100%; clear: both;\">\n",
        "<div style=\"float: left; width: 50%;\">\n",
        "<img src=\"http://www.uoc.edu/portal/_resources/common/imatges/marca_UOC/UOC_Masterbrand.jpg\", align=\"left\">\n",
        "</div>\n",
        "<div style=\"float: right; width: 50%;\">\n",
        "<p style=\"margin: 0; padding-top: 22px; text-align:right;\">M2.875 · Deep Learning · PEC2</p>\n",
        "<p style=\"margin: 0; text-align:right;\">2024-2 · Máster universitario en Ciencia de datos (Data science)</p>\n",
        "<p style=\"margin: 0; text-align:right; padding-button: 100px;\">Estudios de Informática, Multimedia y Telecomunicación</p>\n",
        "</div>\n",
        "</div>\n",
        "<div style=\"width:100%;\">&nbsp;</div>\n",
        "\n",
        "\n",
        "# PEC 2: Redes neuronales recurrentes con Keras\n",
        "\n",
        "\n",
        "<u>Consideraciones generales</u>:\n",
        "\n",
        "- Esta PEC debe realizarse de forma **estrictamente individual**. Cualquier indicio de copia será penalizado con un suspenso (D) para todas las partes implicadas y la posible evaluación negativa de la asignatura de forma íntegra.\n",
        "- Es necesario que el estudiante indique **todas las fuentes** que ha utilizado para la realización de la PEC. De no ser así, se considerará que el estudiante ha cometido plagio, siendo penalizado con un suspenso (D) y la posible evaluación negativa de la asignatura de forma íntegra.\n",
        "\n",
        "<u>Formato de la entrega</u>:\n",
        "\n",
        "- Algunos ejercicios pueden suponer varios minutos de ejecución, por lo que la entrega debe hacerse en **formato notebook** y en **formato html**, donde se vea el código, los resultados y comentarios de cada ejercicio. Se puede exportar el notebook a HTML desde el menú File $\\to$ Download as $\\to$ HTML.\n",
        "- Existe un tipo de celda especial para albergar texto. Este tipo de celda os será muy útil para responder a las diferentes preguntas teóricas planteadas a lo largo de la actividad. Para cambiar el tipo de celda a este tipo, en el menú: Cell $\\to$ Cell Type $\\to$ Markdown."
      ]
    },
    {
      "cell_type": "markdown",
      "metadata": {
        "id": "BbJLLQiXVfLG"
      },
      "source": [
        "# 0. Contexto y carga de librerías\n",
        "\n",
        "# Redes Neuronales Recurrentes\n",
        "\n",
        "Las **redes neuronales recurrentes (RNNs)** se basan justamente en esta idea: son redes diseñadas para procesar secuencias, manteniendo un estado oculto que evoluciona con el tiempo y resume la información relevante del pasado. Así, las RNN permiten capturar patrones temporales y contextuales mucho más largos que los modelos clásicos de $n$-gramas, siendo una herramienta fundamental para tareas como generación de texto, análisis de sentimientos, traducción automática, entre otras.\n",
        "\n",
        "**En esta práctica, en la primera parte exploraremos cómo funcionan las RNNs desde cero, implementando y entrenando una red básica para tareas de modelado de lenguaje. En la segunda, utilizaremos modelos ya implementados para aplicarlo a un problema real de estimación del consumo de energía.**\n"
      ]
    },
    {
      "cell_type": "code",
      "execution_count": 25,
      "metadata": {
        "id": "ygU7huWeVfLH"
      },
      "outputs": [],
      "source": [
        "# LIBRERIAS NECESARIAS\n",
        "import tensorflow as tf\n",
        "import numpy as np"
      ]
    },
    {
      "cell_type": "code",
      "execution_count": 26,
      "metadata": {
        "id": "g_VInyDTVfLI"
      },
      "outputs": [],
      "source": [
        "# !pip install \"tensorflow<2.11\""
      ]
    },
    {
      "cell_type": "markdown",
      "metadata": {
        "id": "-iUmoQiZVfLJ"
      },
      "source": [
        "# 1. Implementar una RNN desde Cero (Paso a Paso)\n",
        "\n",
        "**1.1. Implementación RNN (Forward Pass) desde Cero**\n",
        "\n",
        "**¿Qué es una RNN?**  \n",
        "Una Red Neuronal Recurrente (RNN) es una arquitectura diseñada para procesar datos secuenciales (como texto o series de tiempo). Su característica clave es el **estado oculto** (`h_t`), que actúa como memoria dinámica almacenando información contextual de todos los pasos anteriores. A diferencia de los modelos de n-gramas, las RNNs pueden capturar dependencias a *largo plazo* mediante esta memoria recurrente, procesando secuencias de longitud variable de manera eficiente.\n",
        "\n",
        "**Formulación Matemática**  \n",
        "En cada paso de tiempo `t`, la RNN realiza dos acciones fundamentales:\n",
        "\n",
        "1. **Actualización del estado oculto**:  \n",
        "   Combina la entrada actual `x_t` y el estado oculto anterior `h_{t-1}` mediante una transformación lineal seguida de una no linealidad (usualmente `tanh`):\n",
        "\n",
        "   $$\n",
        "   h_t = \\tanh(\\underbrace{W_{xh} x_t}_{\\text{Contribución actual}} + \\underbrace{W_{hh} h_{t-1}}_{\\text{Memoria pasada}} + b_h)\n",
        "   $$\n",
        "\n",
        "   - **$W_{xh}$**: Matriz de pesos que proyecta la entrada al espacio oculto (dimensión: `d × H`).\n",
        "   - **$W_{hh}$**: Matriz de pesos recurrentes que actualiza la memoria (dimensión: `H × H`).\n",
        "   - **$b_h$**: Vector de sesgo (dimensión: `H`).\n",
        "   - **`tanh`**: Función de activación que acota valores entre [-1, 1], estabilizando gradientes.\n",
        "\n",
        "2. **Generación de salida (se ve en el ejercicio 1.2.)**:  \n",
        "   Para modelado del lenguaje, se suele añadir una capa lineal adicional que mapea $h_t$ a logits para predecir el próximo token:\n",
        "   $$\n",
        "   o_t = W_{ho} h_t + b_o\n",
        "   $$\n",
        "   Donde $W_{ho}$ (dimensión: `H × |Vocabulario|`) y $b_o$ son parámetros de salida.\n",
        "\n",
        "**Flujo de Información**  \n",
        "En cada paso $t$, la RNN procesa secuencialmente:\n",
        "- Toma la entrada actual $x_t$ (ej: embedding de un carácter).\n",
        "- Combina $x_t$ con el estado anterior $h_{t-1}$ para calcular $h_t$.\n",
        "- Usa $h_t$ para predecir el siguiente elemento en la secuencia.\n",
        "\n",
        "Esta recurrencia permite que la información fluya a través del tiempo, dando a la RNN su capacidad de *recordar* patrones temporales.\n"
      ]
    },
    {
      "cell_type": "markdown",
      "metadata": {
        "id": "Z_FHBU1SVfLJ"
      },
      "source": [
        "<div style=\"background-color: #EDF7FF; border-color: #7C9DBF; border-left: 5px solid #7C9DBF; padding: 0.5em;\">\n",
        "<p><strong>Ejercicio [0.75 pts.]:</strong> Define un modelo de Red Neuronal Recurrente (RNN) siguiendo los pasos para construir la arquitectura del modelo descrita a continuación:</p>\n",
        "</div>"
      ]
    },
    {
      "cell_type": "markdown",
      "metadata": {
        "id": "Te5ooQG7VfLK"
      },
      "source": [
        "**Instrucciones para Implementar la RNN (Paso a Paso):**\n",
        "\n",
        "**1. Crea una clase `RNNScratch`:**\n",
        "-  Para ello, hereda de `tf.Module` para aprovechar las utilidades de TensorFlow-\n",
        "- Define los siguientes atributos en el constructor:\n",
        "  - `num_inputs`: Dimensión de los vectores de entrada (ej: tamaño del vocabulario o de embeddings).\n",
        "  - `num_hiddens`: Dimensión del estado oculto (`H`).\n",
        "  - `sigma`: Desviación estándar para inicialización de pesos.\n",
        "\n",
        "**2. Dentro del constructor, define `W_xh`, `W_hh` y `b_h` como variables entrenables de TensorFlow.**\n",
        "- **`W_xh`**: Pesos para proyectar la entrada `x_t` al espacio oculto.\n",
        "  - Forma: `(num_inputs, num_hiddens)`.\n",
        "  - Inicializado con valores aleatorios de distribución normal escalados por `sigma`.\n",
        "- **`W_hh`**: Pesos recurrentes para propagar el estado oculto.\n",
        "  - Forma: `(num_hiddens, num_hiddens)`.\n",
        "  - Inicializado igual que `W_xh`.\n",
        "- **`b_h`**: Sesgo del estado oculto.\n",
        "  - Inicializado con ceros (forma `(num_hiddens,)`).\n",
        "\n",
        "**3. Implementar el método `forward`:**\n",
        "- Esta función recibirá dos parámetros:\n",
        "  - `inputs`: Tensor de forma `(T, batch_size, num_inputs)`, donde `T` es la longitud de la secuencia.\n",
        "  - `state`: Estado oculto inicial (si es `None`, se inicializa con ceros).\n",
        "- La lógica dentro de esta funcion es la siguiente:\n",
        "  - Verificamos si `state` no se proporciona (es None), inicializarlo como tensor de ceros con forma `(batch_size, num_hiddens)`.\n",
        "  - A continuación,  es necesario iterar sobre cada paso de tiempo `T` (ej: bucle for):\n",
        "    - Para cada X que recibimos que tiene la forma `(batch_size, num_inputs)` en :\n",
        "      - Calcular `tf.matmul(X, self.W_xh)`: Proyección de la entrada actual.\n",
        "      - Calcular `tf.matmul(state, self.W_hh)`: Contribución del estado anterior.\n",
        "      - Sumar ambos términos y el sesgo `self.b_h`.\n",
        "      - Aplicar `tanh` para obtener el nuevo estado: `state = tf.tanh(...)`.\n",
        "    - Almacenar el estado en una lista de `outputs` (que tiene que ser previamente inicializada).\n",
        "\n",
        "**Pistas:**\n",
        "- **Batch Processing**: Cada `X` en el bucle tiene forma `(batch_size, num_inputs)`, permitiendo procesar múltiples secuencias en paralelo.\n",
        "- **Recurrencia**: El estado `state` se actualiza en cada paso y se pasa al siguiente, manteniendo la memoria temporal.\n",
        "- **Salida**: `outputs` es una lista con los estados ocultos en cada paso, útil para conectar a capas posteriores (ej: predicción de tokens)."
      ]
    },
    {
      "cell_type": "code",
      "execution_count": 27,
      "metadata": {
        "id": "Tq6Ta3dhVfLK"
      },
      "outputs": [],
      "source": [
        "# Completa el ejercicio\n",
        "\n",
        "class RNNScratch(tf.Module):\n",
        "    def __init__(self, num_inputs, num_hiddens, sigma=0.01):\n",
        "        # Rellenar lógica del constructor\n",
        "        super().__init__()\n",
        "        self.num_inputs = num_inputs\n",
        "        self.num_hiddens = num_hiddens\n",
        "        self.sigma = sigma\n",
        "\n",
        "        self.W_xh = tf.Variable(tf.random.normal(\n",
        "            shape = (num_inputs, num_hiddens), stddev=sigma),\n",
        "            trainable = True)\n",
        "        \n",
        "        self.W_hh = tf.Variable(tf.random.normal(\n",
        "            shape = (num_hiddens, num_hiddens), stddev=sigma),\n",
        "            trainable = True)\n",
        "        \n",
        "        self.b_h = tf.Variable(tf.zeros(shape = (num_hiddens,)), trainable = True)\n",
        "\n",
        "    def forward(self, inputs, state=None):\n",
        "        # Rellenar lógica de la función\n",
        "        T, batch_size, _ = inputs.shape\n",
        "        outputs = []\n",
        "        if state is None:\n",
        "            state = tf.zeros((batch_size, self.num_hiddens))\n",
        "        for i in range(T):\n",
        "            x = inputs[i]\n",
        "            state = tf.tanh(\n",
        "                tf.matmul(x, self.W_xh) +\n",
        "                tf.matmul(state, self.W_hh) +\n",
        "                self.b_h\n",
        "            )\n",
        "            outputs.append(state)\n",
        "        outputs = tf.stack(outputs, axis=0)\n",
        "        return outputs, state"
      ]
    },
    {
      "cell_type": "markdown",
      "metadata": {
        "id": "F3g1OSrQVfLK"
      },
      "source": [
        "<div style=\"background-color: #EDF7FF; border-color: #7C9DBF; border-left: 5px solid #7C9DBF; padding: 0.5em;\">\n",
        "<p><strong>Ejercicio [0.25]:</strong> Verifica su funcionamiento con la siguiente celda y responde a la siguiente pregunta en una sola línea ¿De qué está compuesto la variable 'outputs'?</p>\n",
        "</div>"
      ]
    },
    {
      "cell_type": "code",
      "execution_count": 28,
      "metadata": {
        "id": "btpLG5PhVfLK"
      },
      "outputs": [],
      "source": [
        "batch_size, num_inputs, num_hiddens, num_steps = 2, 16, 32, 100\n",
        "rnn = RNNScratch(num_inputs, num_hiddens)\n",
        "X = tf.ones((num_steps, batch_size, num_inputs))\n",
        "outputs, state = rnn.forward(X)  # Use forward() instead of calling rnn directly"
      ]
    },
    {
      "cell_type": "markdown",
      "metadata": {},
      "source": [
        "Outputs -> contains the hidden states at each time step for each sequence in the batch"
      ]
    },
    {
      "cell_type": "code",
      "execution_count": 29,
      "metadata": {},
      "outputs": [
        {
          "data": {
            "text/plain": [
              "<tf.Tensor: shape=(1, 2, 32), dtype=float32, numpy=\n",
              "array([[[ 0.02887326, -0.0235285 , -0.02554542,  0.0275913 ,\n",
              "         -0.01761433, -0.0359632 ,  0.10060586,  0.01081209,\n",
              "         -0.01693506, -0.01827034, -0.06836825,  0.03366514,\n",
              "          0.01879559, -0.03494026,  0.01133096,  0.03508867,\n",
              "          0.03508565,  0.016113  ,  0.05789818, -0.02145912,\n",
              "         -0.08508293, -0.03119358, -0.0450695 , -0.00254308,\n",
              "         -0.03545068,  0.04821122,  0.0113359 , -0.05166255,\n",
              "          0.05547689, -0.0531472 ,  0.03607816,  0.01565692],\n",
              "        [ 0.02887326, -0.0235285 , -0.02554542,  0.0275913 ,\n",
              "         -0.01761433, -0.0359632 ,  0.10060586,  0.01081209,\n",
              "         -0.01693506, -0.01827034, -0.06836825,  0.03366514,\n",
              "          0.01879559, -0.03494026,  0.01133096,  0.03508867,\n",
              "          0.03508565,  0.016113  ,  0.05789818, -0.02145912,\n",
              "         -0.08508293, -0.03119358, -0.0450695 , -0.00254308,\n",
              "         -0.03545068,  0.04821122,  0.0113359 , -0.05166255,\n",
              "          0.05547689, -0.0531472 ,  0.03607816,  0.01565692]]],\n",
              "      dtype=float32)>"
            ]
          },
          "execution_count": 29,
          "metadata": {},
          "output_type": "execute_result"
        }
      ],
      "source": [
        "outputs[0:1]"
      ]
    },
    {
      "cell_type": "markdown",
      "metadata": {
        "id": "uXaDkzzkVfLK"
      },
      "source": [
        "## 1.2. RNN para Modelo del Lenguaje\n",
        "\n",
        "Ahora que ya tienes implementada la clase `RNNScratch`, el siguiente paso es usarla como base para construir un **modelo de lenguaje**. Este tipo de modelos son la base de sistemas de autocompletado de texto, predicción de palabras o generación de texto.\n",
        "\n",
        "### ¿Qué cambia ahora?\n",
        "\n",
        "Cuando trabajamos con modelos de lenguaje, **las entradas y las salidas pertenecen al mismo vocabulario**. Por ejemplo, si estás entrenando un modelo para predecir la próxima palabra en una frase, tanto la palabra actual (entrada) como la siguiente (salida esperada) son palabras del vocabulario. Esto significa que:\n",
        "\n",
        "- Cada palabra se codifica como un vector (por ejemplo, one-hot).\n",
        "- La dimensión de estos vectores es igual al tamaño del vocabulario.\n",
        "- La salida del modelo debe ser una predicción sobre cuál es el próximo token, también expresado en términos del vocabulario.\n",
        "\n",
        "### ¿Qué se proporciona?\n",
        "- La clase `RNNLMScratch`.\n",
        "\n",
        "- **`__init__`**: recibe la RNN previamente definida, el tamaño del vocabulario (ya que tanto la entrada como la salida están en este espacio) y una tasa de aprendizaje.\n",
        "  \n",
        "- **`init_params`**: define los pesos y sesgos de la capa de salida. Esta capa toma el estado oculto en cada paso y genera una distribución sobre el vocabulario (probabilidad de que cada palabra sea la siguiente).\n",
        "\n"
      ]
    },
    {
      "cell_type": "code",
      "execution_count": 30,
      "metadata": {
        "id": "URJmdrwGVfLL"
      },
      "outputs": [],
      "source": [
        "class RNNLMScratch(tf.Module):\n",
        "    \"\"\" RNN-based language model \"\"\"\n",
        "    def __init__(self, rnn, vocab_size, lr=0.01):\n",
        "        super().__init__()\n",
        "\n",
        "        self.init_params()\n",
        "\n",
        "    def init_params(self):\n",
        "        self.W_hq = tf.Variable(tf.random.normal(\n",
        "            (self.rnn.num_hiddens, self.vocab_size)) * self.rnn.sigma)\n",
        "        self.b_q = tf.Variable(tf.zeros(self.vocab_size))\n"
      ]
    },
    {
      "cell_type": "markdown",
      "metadata": {
        "id": "vbsi68r5VfLL"
      },
      "source": [
        "## 1.2.1. Codificación One-Hot\n",
        "\n",
        "¿Qué es la codificación one-hot? Cada token (carácter) se representa como un vector de longitud igual al tamaño del vocabulario, con un 1 en el índice correspondiente al token y 0 en las demás posiciones.\n",
        "\n",
        "Por ejemplo, si `vocab = {'a':0, 'b':1, 'c':2}`, entonces:\n",
        "- `one_hot(0)` → `[1, 0, 0]`\n",
        "- `one_hot(2)` → `[0, 0, 1]`"
      ]
    },
    {
      "cell_type": "code",
      "execution_count": 31,
      "metadata": {
        "id": "Op2OpVgJVfLL"
      },
      "outputs": [],
      "source": [
        "class RNNLMScratch(tf.Module):\n",
        "    \"\"\" RNN-based language model \"\"\"\n",
        "    def __init__(self, rnn, vocab_size, lr=0.01):\n",
        "        super().__init__()\n",
        "\n",
        "        self.init_params()\n",
        "\n",
        "    def init_params(self):\n",
        "        self.W_hq = tf.Variable(tf.random.normal(\n",
        "            (self.rnn.num_hiddens, self.vocab_size)) * self.rnn.sigma)\n",
        "        self.b_q = tf.Variable(tf.zeros(self.vocab_size))\n",
        "\n",
        "    # Añadimos la funcion one-hot\n",
        "    def one_hot(self, X):\n",
        "        return tf.one_hot(tf.transpose(X), self.vocab_size)"
      ]
    },
    {
      "cell_type": "markdown",
      "metadata": {
        "id": "epHcE8OlVfLL"
      },
      "source": [
        "<div style=\"background-color: #EDF7FF; border-color: #7C9DBF; border-left: 5px solid #7C9DBF; padding: 0.5em;\">\n",
        "<p><strong>Ejercicio [0.5 pts.]:</strong> ¿Podrías decir qué es lo que hace la función anterior one_hot sobre la matriz X dado un tamaño de vocabulario?</p>\n",
        "</div>"
      ]
    },
    {
      "cell_type": "markdown",
      "metadata": {
        "id": "KpCgpkVqsxpM"
      },
      "source": [
        "Completa el ejercicio con una explicación breve"
      ]
    },
    {
      "cell_type": "markdown",
      "metadata": {},
      "source": [
        "Basically it transposes the input matrix X, (because it is batch_size, T, and it should be T, batch_size, to match the RNN), converting each index into a one-hot vector equal in length to the vocabulary size. It returns a tensor with the following structure T, batch_size, vocab_size"
      ]
    },
    {
      "cell_type": "markdown",
      "metadata": {
        "id": "R14KsN_rVfLL"
      },
      "source": [
        "## 1.2.2. Capa de Salida\n",
        "\n",
        "Después de obtener cada estado oculto $h_t $, queremos proyectarlo al espacio del vocabulario:\n",
        "\n",
        "$\n",
        "o_t = h_t W_{hq} + b_q\n",
        "$\n",
        "\n",
        "Donde:\n",
        "- $h_t \\in \\mathbb{R}^{H} $\n",
        "- $W_{hq} \\in \\mathbb{R}^{H \\times V} $\n",
        "- $b_q \\in \\mathbb{R}^{V} $\n",
        "\n",
        "$o_t \\in \\mathbb{R}^{V} $: puntuaciones sin normalizar (logits) sobre el vocabulario.\n",
        "\n",
        "Por último, es necesario añadir una función `output_layer` dentro de nuestra clase `RNNLMScratch` que toma todos los estados ocultos producidos por la RNN y, para cada uno, aplica la transformación lineal (`W_hq`, `b_q`) que proyecta ese vector al espacio del vocabulario. Luego los apila para devolver un tensor de forma `(batch_size, T, vocab_size)`."
      ]
    },
    {
      "cell_type": "markdown",
      "metadata": {
        "id": "6gihqPElVfLM"
      },
      "source": [
        "<div style=\"background-color: #EDF7FF; border-color: #7C9DBF; border-left: 5px solid #7C9DBF; padding: 0.5em;\">\n",
        "<p><strong>Ejercicio [0.25 pts.]:</strong> Añade la capa final de la salida en la clase con la que estamos trabajando:</p>\n",
        "</div>"
      ]
    },
    {
      "cell_type": "markdown",
      "metadata": {
        "id": "H5zwkMN6VfLM"
      },
      "source": [
        "Implementa el método `output_layer(self, rnn_outputs)` dentro de la clase `RNNLMScratch`, que debe hacer lo siguiente:\n",
        "\n",
        "1. Recibe una lista de tensores `rnn_outputs`, que son los estados ocultos generados por la RNN en cada paso de la secuencia. Cada uno de estos tensores tiene forma `(batch_size, num_hiddens)`.\n",
        "2. Para cada estado oculto `H`, aplica una capa lineal:  \n",
        "  \n",
        "   $\\text{output} = H \\cdot W_{hq} + b_q$\n",
        "   \n",
        "   Donde:\n",
        "   - `W_hq` es una matriz de pesos de forma `(num_hiddens, vocab_size)`\n",
        "   - `b_q` es un vector de sesgo de forma `(vocab_size,)`\n",
        "3. Devuelve un único tensor de forma `(batch_size, T, vocab_size)`, donde `T` es la longitud de la secuencia.\n",
        "\n",
        "**Pista**: puedes usar `tf.stack` para convertir la lista de predicciones por paso en un único tensor."
      ]
    },
    {
      "cell_type": "code",
      "execution_count": 32,
      "metadata": {
        "id": "hlESFZ_htcFO"
      },
      "outputs": [],
      "source": [
        "# Completa el ejercicio\n",
        "class RNNLMScratch(tf.Module):\n",
        "    def __init__(self, rnn, vocab_size, lr=0.01):\n",
        "        super().__init__()\n",
        "        self.rnn = rnn\n",
        "        self.vocab_size = vocab_size\n",
        "        self.lr = lr\n",
        "        self.init_params()\n",
        "\n",
        "    def init_params(self):\n",
        "        self.W_hq = tf.Variable(tf.random.normal(\n",
        "            (self.rnn.num_hiddens, self.vocab_size)) * self.rnn.sigma)\n",
        "        self.b_q = tf.Variable(tf.zeros(self.vocab_size))\n",
        "\n",
        "    # Añadimos la funcion one-hot\n",
        "    def one_hot(self, X):\n",
        "        return tf.one_hot(tf.transpose(X), self.vocab_size)\n",
        "\n",
        "    def output_layer(self, rnn_outputs):\n",
        "        outputs = []\n",
        "        for i in rnn_outputs:\n",
        "            out = tf.matmul(i, self.W_hq) + self.b_q\n",
        "            outputs.append(out)\n",
        "        outputs = tf.stack(outputs, axis=0)\n",
        "        return outputs\n",
        "    ##############################################\n",
        "    def forward(self, X, state=None):\n",
        "        X = self.one_hot(X)  # Convertimos a one-hot: (T, batch_size, vocab_size)\n",
        "        rnn_outputs, state = self.rnn.forward(X, state)\n",
        "        logits = self.output_layer(rnn_outputs)  # (batch_size, T, vocab_size)\n",
        "        return logits, state\n",
        "\n",
        "    def loss(self, logits, labels):\n",
        "        loss = tf.nn.sparse_softmax_cross_entropy_with_logits(labels=labels, logits=logits)\n",
        "        return tf.reduce_mean(loss)\n",
        "\n",
        "    def train_step(self, X, y, state=None):\n",
        "        with tf.GradientTape() as tape:\n",
        "            logits, state = self.forward(X, state)\n",
        "            l = self.loss(logits, y)\n",
        "\n",
        "        params = [self.W_hq, self.b_q, self.rnn.W_xh, self.rnn.W_hh, self.rnn.b_h]\n",
        "        grads = tape.gradient(l, params)\n",
        "\n",
        "        for p, g in zip(params, grads):\n",
        "            p.assign_sub(self.lr * g)\n",
        "\n",
        "        return l, state"
      ]
    },
    {
      "cell_type": "markdown",
      "metadata": {
        "id": "kLvzyqjpVfLM"
      },
      "source": [
        "## Ejercicio 1.2.3: Entrenamiento del Modelo de Lenguaje\n",
        "\n",
        "Vamos a **unir todas las piezas** para construir un **modelo de lenguaje entrenable desde cero**.\n",
        "Primero copia los siguientes métodos para completar la clase `RNNLMScratch` con los siguientes métodos:\n",
        "   - `forward`: ejecuta una pasada completa por el modelo (one-hot → RNN → capa de salida).\n",
        "   - `loss`: calcula la pérdida cross-entropy entre la predicción y la secuencia esperada.\n",
        "   - `train_step`: realiza una actualización de parámetros usando `GradientTape`.\n",
        "\n",
        "```python\n",
        "def forward(self, X, state=None):\n",
        "    X = self.one_hot(X)  # Convertimos a one-hot: (T, batch_size, vocab_size)\n",
        "    rnn_outputs, state = self.rnn.forward(X, state)\n",
        "    logits = self.output_layer(rnn_outputs)  # (batch_size, T, vocab_size)\n",
        "    return logits, state\n",
        "\n",
        "def loss(self, logits, labels):\n",
        "    loss = tf.nn.sparse_softmax_cross_entropy_with_logits(labels=labels, logits=logits)\n",
        "    return tf.reduce_mean(loss)\n",
        "\n",
        "def train_step(self, X, y, state=None):\n",
        "    with tf.GradientTape() as tape:\n",
        "        logits, state = self.forward(X, state)\n",
        "        l = self.loss(logits, y)\n",
        "\n",
        "    params = [self.W_hq, self.b_q, self.rnn.W_xh, self.rnn.W_hh, self.rnn.b_h]\n",
        "    grads = tape.gradient(l, params)\n",
        "\n",
        "    for p, g in zip(params, grads):\n",
        "        p.assign_sub(self.lr * g)\n",
        "\n",
        "    return l, state\n",
        "```\n",
        "\n",
        "Vamos a validar que todo tu modelo funciona correctamente, **creando datos ficticios**. Usaremos enteros aleatorios como si fueran IDs de palabras de un vocabulario."
      ]
    },
    {
      "cell_type": "markdown",
      "metadata": {
        "id": "jAUeKtrAwhTO"
      },
      "source": [
        "<div style=\"background-color: #EDF7FF; border-color: #7C9DBF; border-left: 5px solid #7C9DBF; padding: 0.5em;\">\n",
        "<p><strong>Ejercicio [0.25 pts.]: </strong> Debes instanciar el modelo de RNN y el de RNNLMScratch. Posteriormente inicializa de manera aleatoria los conjunto de datos X_train y y_train con un tamaño de vocabulario `vocab_size`. Finalmente entrena el modelo con el código que te hemos proporcionado. </p>\n",
        "</div>"
      ]
    },
    {
      "cell_type": "code",
      "execution_count": 33,
      "metadata": {
        "id": "ZeYMUCQSu8L6"
      },
      "outputs": [
        {
          "name": "stdout",
          "output_type": "stream",
          "text": [
            "Epoch 10, Loss: 2.2935\n",
            "Epoch 20, Loss: 2.2837\n",
            "Epoch 30, Loss: 2.2741\n",
            "Epoch 40, Loss: 2.2647\n",
            "Epoch 50, Loss: 2.2555\n",
            "Epoch 60, Loss: 2.2465\n",
            "Epoch 70, Loss: 2.2376\n",
            "Epoch 80, Loss: 2.2289\n",
            "Epoch 90, Loss: 2.2204\n",
            "Epoch 100, Loss: 2.2121\n"
          ]
        }
      ],
      "source": [
        "# Completa el ejercicio\n",
        "\n",
        "# Parámetros para generar datos simulados\n",
        "vocab_size = 10       # Número de palabras en el vocabulario\n",
        "num_hiddens = 32      # Tamaño del estado oculto\n",
        "num_steps = 5         # Longitud de las secuencias\n",
        "batch_size = 2        # Número de ejemplos en paralelo\n",
        "\n",
        "# Instanciamos el modelo base y el modelo de lenguaje\n",
        "rnn = RNNScratch(num_inputs=vocab_size, num_hiddens=num_hiddens)\n",
        "model = RNNLMScratch(rnn, vocab_size)\n",
        "\n",
        "# Creamos datos aleatorios que simulan secuencias de palabras\n",
        "X_train = tf.random.uniform(\n",
        "    shape = (\n",
        "        num_steps, batch_size),\n",
        "        minval = 0,\n",
        "        maxval = vocab_size,\n",
        "        dtype = tf.int32\n",
        "    )\n",
        "\n",
        "y_train = tf.random.uniform(\n",
        "    shape = (\n",
        "        batch_size, num_steps),\n",
        "        minval = 0,\n",
        "        maxval = vocab_size,\n",
        "        dtype = tf.int32\n",
        "    )\n",
        "                                    \n",
        "# Entrenamiento simple durante 100 épocas\n",
        "num_epochs = 100\n",
        "state = None\n",
        "for epoch in range(num_epochs):\n",
        "    loss, state = model.train_step(X_train, y_train, state)\n",
        "    if (epoch + 1) % 10 == 0:\n",
        "        print(f'Epoch {epoch+1}, Loss: {loss.numpy():.4f}')\n",
        "\n"
      ]
    },
    {
      "cell_type": "markdown",
      "metadata": {
        "id": "73aPaMZkVfLM"
      },
      "source": [
        "# 2. Implementación de una GRU desde Cero"
      ]
    },
    {
      "cell_type": "markdown",
      "metadata": {
        "id": "rhSENxlcVfLM"
      },
      "source": [
        "Una vez comprendido cómo funciona una RNN simple, es momento de ir un paso más allá y construir una **GRU (Gated Recurrent Unit)**. Esta arquitectura introduce mecanismos de control más sofisticados que mejoran el flujo de información y mitigan el problema del desvanecimiento del gradiente.\n"
      ]
    },
    {
      "cell_type": "markdown",
      "metadata": {
        "id": "ssSaeZJl63OH"
      },
      "source": [
        "\n",
        "## 2.1. Crea una clase `GRUScratch`:\n",
        "- Hereda de `tf.Module` para organizar los parámetros y facilitar el seguimiento con TensorFlow.\n",
        "- En el constructor define los siguientes atributos:\n",
        "  - `num_inputs`: Dimensión de los vectores de entrada.\n",
        "  - `num_hiddens`: Dimensión del estado oculto (`H`).\n",
        "  - `sigma`: Escala para inicializar los pesos con una distribución normal.\n",
        "\n",
        "\n",
        "### **1. Define los pesos y sesgos necesarios para las puertas de la GRU:**\n",
        "\n",
        "Una GRU utiliza tres componentes principales:\n",
        "- **Puerta de reinicio (`r`)**: decide cuánto del estado anterior debe olvidarse.\n",
        "- **Puerta de actualización (`z`)**: decide cuánto del nuevo estado candidato se incorpora.\n",
        "- **Estado candidato (`h̃_t`)**: nueva información calculada que puede reemplazar al estado anterior.\n",
        "\n",
        "Cada componente tiene sus propios pesos:\n",
        "\n",
        "#### **Pesos para las entradas `x_t`**:\n",
        "- `W_xr`: para la puerta de reinicio → forma `(num_inputs, num_hiddens)`\n",
        "- `W_xz`: para la puerta de actualización → forma `(num_inputs, num_hiddens)`\n",
        "- `W_xh`: para el estado candidato → forma `(num_inputs, num_hiddens)`\n",
        "\n",
        "#### **Pesos para los estados anteriores `h_{t-1}`**:\n",
        "- `W_hr`: recurrente de la puerta de reinicio → forma `(num_hiddens, num_hiddens)`\n",
        "- `W_hz`: recurrente de la puerta de actualización → forma `(num_hiddens, num_hiddens)`\n",
        "- `W_hh`: recurrente del estado candidato → forma `(num_hiddens, num_hiddens)`\n",
        "\n",
        "#### **Sesgos (bias)**:\n",
        "- `b_r`, `b_z`, `b_h`: uno por cada componente, de forma `(num_hiddens,)`\n",
        "\n",
        "Todos estos pesos deben ser inicializados:\n",
        "- Los pesos con una distribución normal escalada por `sigma`.\n",
        "- Los sesgos con ceros.\n",
        "\n",
        "\n",
        "### **2. Implementa el método `forward`:**\n",
        "- Este método recibe:\n",
        "  - `inputs`: Tensor de forma `(T, batch_size, num_inputs)` (secuencia temporal).\n",
        "  - `state`: Estado oculto inicial. Si no se proporciona, se inicializa con ceros.\n",
        "\n",
        "#### **Lógica del paso temporal**:\n",
        "Para cada paso de tiempo `t`, con entrada `X_t` y estado oculto `h_{t-1}`:\n",
        "\n",
        "1. **Calcula la puerta de reinicio (`r`)**:\n",
        "   $\n",
        "   r_t = \\sigma(X_t W_{xr} + h_{t-1} W_{hr} + b_r)\n",
        "   $\n",
        "\n",
        "2. **Calcula la puerta de actualización (`z`)**:\n",
        "   $\n",
        "   z_t = \\sigma(X_t W_{xz} + h_{t-1} W_{hz} + b_z)\n",
        "   $\n",
        "\n",
        "3. **Calcula el estado candidato**:\n",
        "   $\n",
        "   \\tilde{h}_t = \\tanh(X_t W_{xh} + (r_t \\odot h_{t-1}) W_{hh} + b_h)\n",
        "   $\n",
        "\n",
        "4. **Actualiza el estado oculto**:\n",
        "   $\n",
        "   h_t = z_t \\odot h_{t-1} + (1 - z_t) \\odot \\tilde{h}_t\n",
        "   $\n",
        "\n",
        "5. **Añade `h_t` a la lista de salidas `outputs`**.\n",
        "\n",
        "- Al final, devuelve `outputs` (una lista con los estados ocultos de cada paso) y el último estado `h_T`.\n",
        "\n",
        "---\n",
        "\n",
        "###  Pistas:\n",
        "- **Uso de `tf.sigmoid` y `tf.tanh`**: esenciales para las puertas y el estado candidato.\n",
        "- **Producto elemento a elemento (`*`)**: es el operador que representa la multiplicación Hadamard (también conocida como `\\odot`).\n",
        "- **Inicialización del estado**: si no se recibe un `state`, inicialízalo como `tf.zeros((batch_size, num_hiddens))`.\n",
        "- **Estructura final del código**: similar a una RNN, pero con más pasos por iteración."
      ]
    },
    {
      "cell_type": "markdown",
      "metadata": {
        "id": "JDB0u_mXzMZO"
      },
      "source": [
        "<div style=\"background-color: #EDF7FF; border-color: #7C9DBF; border-left: 5px solid #7C9DBF; padding: 0.5em;\">\n",
        "<p><strong>Ejercicio [1 pts.]:</strong> Implementa la clase GRUScratch:</p>\n",
        "</div>"
      ]
    },
    {
      "cell_type": "code",
      "execution_count": 34,
      "metadata": {
        "id": "lPA7huIYywlt"
      },
      "outputs": [],
      "source": [
        "# Completa el ejercicio\n",
        "\n",
        "class GRUScratch():\n",
        "    def __init__(self, num_inputs, num_hiddens, sigma=0.01):\n",
        "        super().__init__()\n",
        "        self.num_inputs = num_inputs\n",
        "        self.num_hiddens = num_hiddens\n",
        "        self.sigma = sigma\n",
        "\n",
        "        self.W_xr = tf.Variable(tf.random.normal((num_inputs, num_hiddens)) * sigma)\n",
        "        self.W_hr = tf.Variable(tf.random.normal((num_hiddens, num_hiddens)) * sigma)\n",
        "        self.b_r = tf.Variable(tf.zeros(num_hiddens))\n",
        "\n",
        "        self.W_xz = tf.Variable(tf.random.normal((num_inputs, num_hiddens)) * sigma)\n",
        "        self.W_hz = tf.Variable(tf.random.normal((num_hiddens, num_hiddens)) * sigma)\n",
        "        self.b_z = tf.Variable(tf.zeros(num_hiddens))\n",
        "\n",
        "        self.W_xh = tf.Variable(tf.random.normal((num_inputs, num_hiddens)) * sigma)\n",
        "        self.W_hh = tf.Variable(tf.random.normal((num_hiddens, num_hiddens)) * sigma)\n",
        "        self.b_h = tf.Variable(tf.zeros(num_hiddens))\n",
        "\n",
        "    def forward(self, inputs, state=None):\n",
        "        T, batch_size, _ = inputs.shape\n",
        "\n",
        "        if state is None:\n",
        "            state = tf.zeros((batch_size, self.num_hiddens))\n",
        "        outputs = []\n",
        "\n",
        "        for i in range(T):\n",
        "            X_t = inputs[i]\n",
        "\n",
        "            r_t = tf.sigmoid(tf.matmul(X_t, self.W_xr) + tf.matmul(state, self.W_hr) + self.b_r)\n",
        "            z_t = tf.sigmoid(tf.matmul(X_t, self.W_xz) + tf.matmul(state, self.W_hz) + self.b_z)\n",
        "            h_t = tf.tanh(tf.matmul(X_t, self.W_xh) + tf.matmul(r_t * state, self.W_hh) + self.b_h)\n",
        "\n",
        "            state = z_t * state + (1 - z_t) * h_t\n",
        "\n",
        "            outputs.append(state)\n",
        "\n",
        "\n",
        "        return outputs, state"
      ]
    },
    {
      "cell_type": "markdown",
      "metadata": {
        "id": "dQWrF5MbVfLN"
      },
      "source": [
        "**Verificación del funcionamiento:**"
      ]
    },
    {
      "cell_type": "code",
      "execution_count": 35,
      "metadata": {
        "colab": {
          "base_uri": "https://localhost:8080/"
        },
        "id": "H4gchualVfLN",
        "outputId": "4906d739-ef32-46a6-c777-ca97869fdb33"
      },
      "outputs": [
        {
          "name": "stdout",
          "output_type": "stream",
          "text": [
            "5 (3, 20)\n"
          ]
        }
      ],
      "source": [
        "batch_size, num_inputs, num_hiddens, num_steps = 3, 10, 20, 5\n",
        "gru = GRUScratch(num_inputs, num_hiddens)\n",
        "X = tf.random.uniform((num_steps, batch_size, num_inputs))\n",
        "outputs, state = gru.forward(X)\n",
        "print(len(outputs), outputs[0].shape) # Debería mostrar (5, (3,20))"
      ]
    },
    {
      "cell_type": "markdown",
      "metadata": {
        "id": "iwQLEJhh0Ney"
      },
      "source": [
        "# 2.2. GRULMScratch\n",
        "\n",
        "Ahora debemos crear la clasee `GRULMScratch`. Esta clase implementará un **modelo de lenguaje** que utiliza como núcleo una GRU construida desde cero (`GRUScratch`).\n",
        "\n",
        "\n",
        "- Hereda de `tf.Module` para facilitar la organización de parámetros.\n",
        "- El constructor (`__init__`) debe recibir:\n",
        "  - Una instancia de `GRUScratch`\n",
        "  - El tamaño del vocabulario (`vocab_size`)\n",
        "  - La tasa de aprendizaje (`lr`)\n",
        "\n",
        "### **1. Define la capa de salida del modelo**\n",
        "Dentro de un método `init_params`, crea los pesos que proyectan el estado oculto hacia el espacio del vocabulario (igual que hiciste con la RNN):\n",
        "\n",
        "- `W_hq`: pesos de forma `(num_hiddens, vocab_size)`, inicializados con normal(`sigma`)\n",
        "- `b_q`: sesgo de forma `(vocab_size,)`, inicializado a ceros\n",
        "\n",
        "Estos parámetros permiten convertir el estado oculto en una **distribución de probabilidad sobre el vocabulario**.\n",
        "\n",
        "### **2. Añade la función `one_hot(X)`**\n",
        "Esta función convierte las secuencias de enteros en vectores one-hot. Recuerda hacer un `tf.transpose(X)` para que la forma sea `(T, batch_size)` antes de aplicar `tf.one_hot`.\n",
        "\n",
        "### **3. Implementa `output_layer(rnn_outputs)`**\n",
        "Este método recibe una lista de estados ocultos de la GRU, y para cada uno aplica:\n",
        "\n",
        "$\n",
        "\\text{logits}_t = h_t \\cdot W_{hq} + b_q\n",
        "$\n",
        "\n",
        "Finalmente, apila los logits con `tf.stack` para obtener una salida de forma `(batch_size, T, vocab_size)`.\n",
        "\n",
        "\n",
        "### **4. Pega las siguientes funciones proporcionadas dentro de la clase**\n",
        "\n",
        "```python\n",
        " def forward(self, X, state=None):\n",
        "        X = self.one_hot(X)                          # (T, batch_size, vocab_size)\n",
        "        rnn_outputs, state = self.gru.forward(X, state)\n",
        "        logits = self.output_layer(rnn_outputs)      # (batch_size, T, vocab_size)\n",
        "        return logits, state\n",
        "\n",
        "    def loss(self, logits, labels):\n",
        "        # logits: (batch_size, T, vocab_size), labels: (batch_size, T)\n",
        "        loss = tf.nn.sparse_softmax_cross_entropy_with_logits(\n",
        "            labels=labels, logits=logits\n",
        "        )\n",
        "        return tf.reduce_mean(loss)\n",
        "\n",
        "    def train_step(self, X, y, state=None):\n",
        "        with tf.GradientTape() as tape:\n",
        "            logits, state = self.forward(X, state)\n",
        "            l = self.loss(logits, y)\n",
        "\n",
        "        # Gradientes de todos los parámetros\n",
        "        params = [\n",
        "            self.W_hq, self.b_q,\n",
        "            self.gru.W_xr, self.gru.W_xz, self.gru.W_xh,\n",
        "            self.gru.W_hr, self.gru.W_hz, self.gru.W_hh,\n",
        "            self.gru.b_r, self.gru.b_z, self.gru.b_h\n",
        "        ]\n",
        "        grads = tape.gradient(l, params)\n",
        "\n",
        "        # Actualizamos manualmente los parámetros\n",
        "        for p, g in zip(params, grads):\n",
        "            p.assign_sub(self.lr * g)\n",
        "\n",
        "        return l, state\n",
        "```\n"
      ]
    },
    {
      "cell_type": "markdown",
      "metadata": {
        "id": "VuP4If6Q2tGG"
      },
      "source": [
        "<div style=\"background-color: #EDF7FF; border-color: #7C9DBF; border-left: 5px solid #7C9DBF; padding: 0.5em;\">\n",
        "<p><strong>Ejercicio [0.5 pts.]:</strong> Implementa la clase GRULMScratch:</p>\n",
        "</div>"
      ]
    },
    {
      "cell_type": "code",
      "execution_count": 36,
      "metadata": {
        "id": "nVfNo0hr2EdG"
      },
      "outputs": [],
      "source": [
        "# Completa el ejercicio\n",
        "\n",
        "class GRULMScratch(tf.Module):\n",
        "    def __init__(self, gru, vocab_size, lr=0.01):\n",
        "        super().__init__()\n",
        "        self.gru = gru\n",
        "        self.vocab_size = vocab_size\n",
        "        self.lr = lr\n",
        "        self.init_params()\n",
        "\n",
        "    def init_params(self):\n",
        "        self.W_hq = tf.Variable(tf.random.normal(\n",
        "            (self.gru.num_hiddens, self.vocab_size)) * self.gru.sigma)\n",
        "        self.b_q = tf.Variable(tf.zeros(self.vocab_size))\n",
        "\n",
        "    def one_hot(self, X):\n",
        "        return tf.one_hot(tf.transpose(X), self.vocab_size)\n",
        "\n",
        "    def output_layer(self, rnn_outputs):\n",
        "        outputs = []\n",
        "        for i in rnn_outputs:\n",
        "            logits_t = tf.matmul(i, self.W_hq) + self.b_q\n",
        "            outputs.append(logits_t)\n",
        "        outputs = tf.stack(outputs, axis=0)\n",
        "        outputs = tf.transpose(outputs, perm=[1, 0, 2])\n",
        "        return outputs\n",
        "\n",
        "\n",
        "    ######\n",
        "\n",
        "    def forward(self, X, state=None):\n",
        "        X = self.one_hot(X)                          # (T, batch_size, vocab_size)\n",
        "        rnn_outputs, state = self.gru.forward(X, state)\n",
        "        logits = self.output_layer(rnn_outputs)      # (batch_size, T, vocab_size)\n",
        "        return logits, state\n",
        "\n",
        "    def loss(self, logits, labels):\n",
        "        # logits: (batch_size, T, vocab_size), labels: (batch_size, T)\n",
        "        loss = tf.nn.sparse_softmax_cross_entropy_with_logits(\n",
        "            labels=labels, logits=logits\n",
        "        )\n",
        "        return tf.reduce_mean(loss)\n",
        "\n",
        "    def train_step(self, X, y, state=None):\n",
        "        with tf.GradientTape() as tape:\n",
        "            logits, state = self.forward(X, state)\n",
        "            l = self.loss(logits, y)\n",
        "\n",
        "        # Gradientes de todos los parámetros\n",
        "        params = [\n",
        "            self.W_hq, self.b_q,\n",
        "            self.gru.W_xr, self.gru.W_xz, self.gru.W_xh,\n",
        "            self.gru.W_hr, self.gru.W_hz, self.gru.W_hh,\n",
        "            self.gru.b_r, self.gru.b_z, self.gru.b_h\n",
        "        ]\n",
        "        grads = tape.gradient(l, params)\n",
        "\n",
        "        # Actualizamos manualmente los parámetros\n",
        "        for p, g in zip(params, grads):\n",
        "            p.assign_sub(self.lr * g)\n",
        "\n",
        "        return l, state\n",
        "\n",
        "\n"
      ]
    },
    {
      "cell_type": "markdown",
      "metadata": {
        "id": "a8kpqAUG3BI1"
      },
      "source": [
        "# 2.3. Entrena un autocompletador de texto con una GRU\n",
        "\n",
        "En este ejercicio final vamos a **entrenar nuestro modelo de lenguaje GRU desde cero** usando un vocabulario muy pequeño:  \n",
        "**`[\"hola\", \"mundo\", \"buenos\", \"días\"]`**.\n",
        "\n",
        "### ¿Qué vamos a hacer?\n",
        "\n",
        "1. **Definir el vocabulario** y convertir cada palabra a su índice numérico.\n",
        "2. **Crear secuencias de entrenamiento**, simulando frases reales.\n",
        "3. **Entrenar el modelo GRU** para que aprenda a predecir la siguiente palabra en una secuencia.\n",
        "4. **Probar el autocompletador**, escribiendo una palabra inicial (como `\"hola\"`) y dejando que el modelo genere el resto.\n"
      ]
    },
    {
      "cell_type": "markdown",
      "metadata": {
        "id": "cFlvutdi4zdR"
      },
      "source": [
        "<div style=\"background-color: #EDF7FF; border-color: #7C9DBF; border-left: 5px solid #7C9DBF; padding: 0.5em;\">\n",
        "  <p><strong>Ejercicio [0.5 pts.]:</strong> Ejecuta el código siguiente y responde brevemente a las siguientes preguntas:</p>\n",
        "  \n",
        "  <ol>\n",
        "    <li><strong>¿Qué hace la función <code>one_hot</code> dentro del modelo?</strong></li>\n",
        "    <li><strong>¿Qué representa el <code>state</code> en las GRU y por qué lo reutilizamos entre predicciones?</strong></li>\n",
        "    <li><strong>¿Por qué usamos <code>sparse_softmax_cross_entropy_with_logits</code> en vez de <code>MSE</code>?</strong></li>\n",
        "    <li><strong>¿Qué problema tendría el modelo si entrenamos con secuencias aleatorias sin sentido?</strong></li>\n",
        "    <li><strong>¿Qué hace la capa de salida del modelo (<code>W_hq</code>, <code>b_q</code>)?</strong></li>\n",
        "    <li><strong>¿Qué pasaría si cambiamos el vocabulario después del entrenamiento?</strong></li>\n",
        "    <li><strong>¿Qué ocurre si no reutilizamos el estado <code>state</code> entre predicciones consecutivas?</strong></li>\n",
        "  </ol>\n",
        "</div>\n"
      ]
    },
    {
      "cell_type": "markdown",
      "metadata": {},
      "source": [
        "### 1. What does one_hot do?\n",
        "- It takes word indixes into one hot vectors. Each vector has a dimension equals to the vocabulary size and a single 1 at the position corresponding to the word's index\n",
        "### 2. What does the state represent in GRUs and why do we reuse it between predictions?\n",
        "- The state is basically the GRU's  hidden state, that has the information from the previous time steps. It's reused to maintain the sequence's memory and continuity to predict the next word\n",
        "### 3. Why do we use sparse_softmax_cross_entropy_with_logits instead of MSE?\n",
        "- Because MSE is used to measure erros for continuos values, and cross-entropy measures the difference between probability distributions. \n",
        "### 4. What problem would the model have if we trained it with random, nonsensical sequences?\n",
        "- It would generate random values for results, because there's no structure to learn from\n",
        "### 5. What does the model's output layer W_hq, b_q do?\n",
        "- It produces logits that represents the scores for each possible word by projecting the GRU'S hidden state into the vocabulary \"space\"\n",
        "### 6. What would happen if we changed the vocabulary after training?\n",
        "- It would give an error because the one-hot vector would no longer match what the model had created\n",
        "### 7. What happens if we do not reuse the state between consecutive predictions?\n",
        "- The model then would \"forget\" the context from earlier time steps, giving lack of coherence with the previous result"
      ]
    },
    {
      "cell_type": "code",
      "execution_count": 37,
      "metadata": {
        "id": "qWjSt0hv0NMh"
      },
      "outputs": [],
      "source": [
        "# Vocabulario toy\n",
        "vocab = [\"hola\", \"mundo\", \"buenos\", \"días\"]\n",
        "token2idx = {word: i for i, word in enumerate(vocab)}\n",
        "idx2token = {i: word for word, i in token2idx.items()}\n",
        "vocab_size = len(vocab)\n",
        "gru = GRUScratch(num_inputs=vocab_size, num_hiddens=num_hiddens)\n",
        "model = GRULMScratch(gru, vocab_size)\n",
        "\n",
        "\n",
        "def predict_next_token(model, prefix_tokens, state=None):\n",
        "    \"\"\"\n",
        "    Recibe una secuencia de tokens (palabras), y predice la siguiente palabra.\n",
        "    \"\"\"\n",
        "    # Convertimos palabras a índices\n",
        "    idx_seq = [token2idx.get(tok, 0) for tok in prefix_tokens]  # (ej. [\"hola\"] → [0])\n",
        "    input_tensor = tf.convert_to_tensor([idx_seq], dtype=tf.int32)  # (1, T)\n",
        "\n",
        "    # Hacemos una pasada hacia adelante\n",
        "    logits, state = model.forward(input_tensor, state)\n",
        "\n",
        "    # Tomamos el último paso temporal\n",
        "    last_logits = logits[:, -1, :]  # (batch_size, vocab_size)\n",
        "    predicted_idx = tf.argmax(last_logits, axis=-1).numpy()[0]  # índice más probable\n",
        "\n",
        "    return idx2token[predicted_idx], state\n"
      ]
    },
    {
      "cell_type": "code",
      "execution_count": 38,
      "metadata": {
        "id": "o9oufcvM1kNc"
      },
      "outputs": [
        {
          "name": "stdout",
          "output_type": "stream",
          "text": [
            "Epoch 50, Loss: 1.3802\n",
            "Epoch 100, Loss: 1.3753\n",
            "Epoch 150, Loss: 1.3715\n",
            "Epoch 200, Loss: 1.3686\n",
            "Epoch 250, Loss: 1.3662\n",
            "Epoch 300, Loss: 1.3644\n",
            "Epoch 350, Loss: 1.3629\n",
            "Epoch 400, Loss: 1.3618\n",
            "Epoch 450, Loss: 1.3609\n",
            "Epoch 500, Loss: 1.3601\n",
            "Epoch 550, Loss: 1.3595\n",
            "Epoch 600, Loss: 1.3590\n",
            "Epoch 650, Loss: 1.3586\n",
            "Epoch 700, Loss: 1.3582\n",
            "Epoch 750, Loss: 1.3579\n",
            "Epoch 800, Loss: 1.3576\n",
            "Epoch 850, Loss: 1.3573\n",
            "Epoch 900, Loss: 1.3571\n",
            "Epoch 950, Loss: 1.3569\n",
            "Epoch 1000, Loss: 1.3566\n",
            "Frase generada: hola mundo mundo mundo mundo mundo\n"
          ]
        }
      ],
      "source": [
        "# Dataset de entrenamiento (tokens como índices)\n",
        "train_sentences = [\n",
        "    [\"hola\", \"mundo\", \"buenos\", \"días\"],\n",
        "    [\"buenos\", \"días\", \"hola\", \"mundo\"],\n",
        "    [\"hola\", \"buenos\", \"días\", \"mundo\"],\n",
        "    [\"días\", \"hola\", \"mundo\", \"buenos\"]\n",
        "]\n",
        "\n",
        "# Convertimos a índices\n",
        "X_train = []\n",
        "y_train = []\n",
        "for seq in train_sentences:\n",
        "    idx_seq = [token2idx[word] for word in seq]\n",
        "    X_train.append(idx_seq[:-1])  # input\n",
        "    y_train.append(idx_seq[1:])   # target\n",
        "\n",
        "X_train = tf.convert_to_tensor(X_train, dtype=tf.int32)  # (batch_size, T)\n",
        "y_train = tf.convert_to_tensor(y_train, dtype=tf.int32)\n",
        "\n",
        "# Hiperparámetros\n",
        "num_epochs = 1000\n",
        "state = None\n",
        "\n",
        "for epoch in range(num_epochs):\n",
        "    loss, state = model.train_step(X_train, y_train, state)\n",
        "    if (epoch + 1) % 50 == 0:\n",
        "        print(f\"Epoch {epoch+1}, Loss: {loss.numpy():.4f}\")\n",
        "\n",
        "input_words = [\"hola\"]\n",
        "state = None\n",
        "\n",
        "for _ in range(5):\n",
        "    next_word, state = predict_next_token(model, input_words, state)\n",
        "    input_words.append(next_word)\n",
        "\n",
        "print(\"Frase generada:\", \" \".join(input_words))\n"
      ]
    },
    {
      "cell_type": "markdown",
      "metadata": {
        "id": "XJWDHSSPVfLN"
      },
      "source": [
        "# 3. Implementación de una LSTM desde Cero"
      ]
    },
    {
      "cell_type": "markdown",
      "metadata": {
        "id": "6hfbHrncVfLN"
      },
      "source": [
        "<div style=\"background-color: #EDF7FF; border-color: #7C9DBF; border-left: 5px solid #7C9DBF; padding: 0.5em;\">\n",
        "<p><strong>Ejercicio 3 [1 pts.]:</strong> Implementa una unidad LSTM (Long Short-Term Memory) desde cero siguiendo estos pasos:</p>\n",
        "</div>"
      ]
    },
    {
      "cell_type": "markdown",
      "metadata": {
        "id": "2IsNqoTBVfLN"
      },
      "source": [
        "### 1. Define la clase `LSTMScratch`:\n",
        "- Para ello, hereda de `tf.Module` para aprovechar las utilidades de TensorFlow.\n",
        "- Define los siguientes atributos en el constructor:\n",
        "  - `num_inputs`: Dimensión de los vectores de entrada (por ejemplo, tamaño del vocabulario o de los embeddings).\n",
        "  - `num_hiddens`: Dimensión del estado oculto (`H`).\n",
        "  - `sigma`: Desviación estándar para la inicialización de pesos.\n",
        "\n",
        "\n",
        "### 2. Dentro del constructor, define los pesos y sesgos como variables entrenables de TensorFlow:\n",
        "\n",
        "La LSTM contiene cuatro componentes clave: la puerta de olvido, la puerta de entrada, la celda candidata y la puerta de salida. Cada uno de ellos requiere sus propios pesos y sesgos, tanto para la entrada actual `x_t` como para el estado oculto anterior `h_{t-1}`.\n",
        "\n",
        "- **Puerta de olvido (`f_t`)**\n",
        "  - `W_xf`: Pesos para la entrada → forma `(num_inputs, num_hiddens)`\n",
        "  - `W_hf`: Pesos recurrentes → forma `(num_hiddens, num_hiddens)`\n",
        "  - `b_f`: Sesgo → forma `(num_hiddens,)`\n",
        "\n",
        "- **Puerta de entrada (`i_t`)**\n",
        "  - `W_xi`: Pesos para la entrada → forma `(num_inputs, num_hiddens)`\n",
        "  - `W_hi`: Pesos recurrentes → forma `(num_hiddens, num_hiddens)`\n",
        "  - `b_i`: Sesgo → forma `(num_hiddens,)`\n",
        "\n",
        "- **Celda candidata (`c̃_t`)**\n",
        "  - `W_xc`: Pesos para la entrada → forma `(num_inputs, num_hiddens)`\n",
        "  - `W_hc`: Pesos recurrentes → forma `(num_hiddens, num_hiddens)`\n",
        "  - `b_c`: Sesgo → forma `(num_hiddens,)`\n",
        "\n",
        "- **Puerta de salida (`o_t`)**\n",
        "  - `W_xo`: Pesos para la entrada → forma `(num_inputs, num_hiddens)`\n",
        "  - `W_ho`: Pesos recurrentes → forma `(num_hiddens, num_hiddens)`\n",
        "  - `b_o`: Sesgo → forma `(num_hiddens,)`\n",
        "\n",
        "Todos los pesos deben inicializarse con una distribución normal escalada por `sigma`, y todos los sesgos deben inicializarse con ceros.\n",
        "\n",
        "\n",
        "### 3. Implementar el método `forward`:\n",
        "- Esta función recibe dos parámetros:\n",
        "  - `inputs`: Tensor de forma `(T, batch_size, num_inputs)`, donde `T` es la longitud de la secuencia.\n",
        "  - `state`: Estado inicial compuesto por dos tensores `(h, c)`:\n",
        "    - `h`: estado oculto\n",
        "    - `c`: estado de la celda\n",
        "    Si no se proporciona, ambos deben inicializarse a ceros con forma `(batch_size, num_hiddens)`.\n",
        "\n",
        "- La lógica dentro de esta función es la siguiente:\n",
        "  - Iterar sobre cada paso de tiempo `t` de la secuencia de entrada.\n",
        "  - Para cada entrada `X` con forma `(batch_size, num_inputs)`:\n",
        "    - Calcular la puerta de olvido `f_t` aplicando una función sigmoide.\n",
        "    - Calcular la puerta de entrada `i_t` aplicando una función sigmoide.\n",
        "    - Calcular la puerta de salida `o_t` aplicando una función sigmoide.\n",
        "    - Calcular la celda candidata `c̃_t` aplicando una función `tanh`.\n",
        "    - Actualizar la celda `c` como:  \n",
        "      `c = f_t * c + i_t * c̃_t`\n",
        "    - Actualizar el estado oculto `h` como:  \n",
        "      `h = o_t * tanh(c)`\n",
        "    - Añadir `h` a la lista de salidas `outputs`.\n",
        "\n",
        "- Al finalizar, devuelve:\n",
        "  - La lista `outputs`, que contiene el estado oculto en cada paso de la secuencia.\n",
        "  - El estado final `(h, c)` que puede reutilizarse para predicciones futuras.\n",
        "\n",
        "\n",
        "\n",
        "### Pistas:\n",
        "- Cada una de las operaciones usa pesos distintos para entrada (`X`) y para el estado oculto anterior (`h`), además de su correspondiente sesgo.\n",
        "- La celda `c` actúa como una memoria a largo plazo, mientras que `h` es la salida a cada paso.\n",
        "- La puerta de olvido permite controlar qué partes del contenido de la celda se conservan.\n",
        "- `outputs` contiene los estados ocultos en cada paso, que pueden usarse para tareas como predicción de secuencias."
      ]
    },
    {
      "cell_type": "code",
      "execution_count": 39,
      "metadata": {
        "id": "ddYrGB8g7RK5"
      },
      "outputs": [],
      "source": [
        "# Completa el ejercicio\n",
        "\n",
        "class LSTMSratch():\n",
        "    def __init__(self, num_inputs, num_hiddens, sigma=0.01):\n",
        "        super().__init__()\n",
        "        self.num_inputs = num_inputs\n",
        "        self.num_hiddens = num_hiddens\n",
        "        #Forget gate\n",
        "        self.W_xf = tf.Variable(tf.random.normal((num_inputs, num_hiddens), stddev=sigma), trainable=True)\n",
        "        self.W_hf = tf.Variable(tf.random.normal((num_hiddens, num_hiddens), stddev=sigma), trainable=True)\n",
        "        self.b_f = tf.Variable(tf.zeros(num_hiddens), trainable=True)\n",
        "        #Input gate\n",
        "        self.W_xi = tf.Variable(tf.random.normal((num_inputs, num_hiddens), stddev=sigma), trainable=True)\n",
        "        self.W_hi = tf.Variable(tf.random.normal((num_hiddens, num_hiddens), stddev=sigma), trainable=True)\n",
        "        self.b_i = tf.Variable(tf.zeros(num_hiddens), trainable=True)\n",
        "        #Candidate\n",
        "        self.W_xc = tf.Variable(tf.random.normal((num_inputs, num_hiddens), stddev=sigma), trainable=True)\n",
        "        self.W_hc = tf.Variable(tf.random.normal((num_hiddens, num_hiddens), stddev=sigma), trainable=True)\n",
        "        self.b_c = tf.Variable(tf.zeros(num_hiddens), trainable=True)\n",
        "        #output\n",
        "        self.W_xo = tf.Variable(tf.random.normal((num_inputs, num_hiddens), stddev=sigma), trainable=True)\n",
        "        self.W_ho = tf.Variable(tf.random.normal((num_hiddens, num_hiddens), stddev=sigma), trainable=True)\n",
        "        self.b_o = tf.Variable(tf.zeros(num_hiddens), trainable=True)\n",
        "    def forward(self, inputs, state=None):\n",
        "        T, batch_size, _ = inputs.shape\n",
        "        if state is None:\n",
        "            h = tf.zeros((batch_size, self.num_hiddens))\n",
        "            c = tf.zeros((batch_size, self.num_hiddens))\n",
        "        else:\n",
        "            h, c = state\n",
        "        outputs = []\n",
        "\n",
        "        for i in range(T):\n",
        "            X = inputs[i]\n",
        "            f_t = tf.sigmoid(tf.matmul(X, self.W_xf) + tf.matmul(h, self.W_hf) + self.b_f)\n",
        "            i_t = tf.sigmoid(tf.matmul(X, self.W_xi) + tf.matmul(h, self.W_hi) + self.b_i)\n",
        "            o_t = tf.sigmoid(tf.matmul(X, self.W_xo) + tf.matmul(h, self.W_ho) + self.b_o)\n",
        "            c_t = tf.tanh(tf.matmul(X, self.W_xc) + tf.matmul(h, self.W_hc) + self.b_c)\n",
        "            \n",
        "            c = f_t * c + i_t * c_t\n",
        "            h = o_t * tf.tanh(c)\n",
        "            outputs.append(h)\n",
        "\n",
        "        outputs = tf.stack(outputs, axis=0)\n",
        "\n",
        "        return outputs, (h, c)"
      ]
    },
    {
      "cell_type": "markdown",
      "metadata": {
        "id": "UMEgj1JtVfLS"
      },
      "source": [
        "**Verificación del funcionamiento:**"
      ]
    },
    {
      "cell_type": "code",
      "execution_count": 40,
      "metadata": {
        "colab": {
          "base_uri": "https://localhost:8080/"
        },
        "id": "hvBhHe6vVfLS",
        "outputId": "e71ad423-ff1e-4d75-da58-598ab871e8a3"
      },
      "outputs": [
        {
          "name": "stdout",
          "output_type": "stream",
          "text": [
            "Salidas: 7 pasos, forma cada una: (3, 25)\n",
            "Estado final h: (3, 25), c: (3, 25)\n"
          ]
        }
      ],
      "source": [
        "batch_size, num_inputs, num_hiddens, num_steps = 3, 15, 25, 7\n",
        "lstm = LSTMSratch(num_inputs, num_hiddens)\n",
        "X = tf.random.uniform((num_steps, batch_size, num_inputs))\n",
        "outputs, (h, c) = lstm.forward(X)\n",
        "print(f\"Salidas: {len(outputs)} pasos, forma cada una: {outputs[0].shape}\") # (7, (3,25))\n",
        "print(f\"Estado final h: {h.shape}, c: {c.shape}\")  # Ambos (3,25)"
      ]
    },
    {
      "cell_type": "markdown",
      "metadata": {
        "id": "kP4tRZotVfLS"
      },
      "source": [
        "# 4. Redes Recurrentes para problemas de Regresión"
      ]
    },
    {
      "cell_type": "markdown",
      "metadata": {
        "id": "faNYlxgtVfLS"
      },
      "source": [
        "\n",
        "Hasta ahora hemos trabajado con redes recurrentes aplicadas a tareas de clasificación de secuencias, como el modelado de lenguaje. Sin embargo, las RNN también son una herramienta muy potente para abordar problemas de **regresión temporal**, es decir, para **predecir valores continuos a lo largo del tiempo**.\n",
        "\n",
        "En este apartado, nos centraremos en aplicar redes recurrentes (RNN, GRU o LSTM) para **predecir series temporales reales**, una tarea clave en aplicaciones del mundo real como:\n",
        "\n",
        "- Predicción de consumo energético\n",
        "- Modelado de precios financieros\n",
        "- Seguimiento de sensores en sistemas industriales\n",
        "- Forecasting de demanda en logística o transporte\n",
        "\n",
        "A diferencia del modelado de lenguaje, donde cada token representa una palabra y la salida es una probabilidad sobre un vocabulario, aquí cada paso temporal está representado por un **valor numérico continuo**, como por ejemplo el consumo de energía en un momento determinado. El objetivo es **predecir el valor futuro** de esa serie.\n",
        "\n"
      ]
    },
    {
      "cell_type": "markdown",
      "metadata": {
        "id": "q-ZtmWtOVfLS"
      },
      "source": [
        "## 4.1. Carga del dataset\n",
        "\n",
        "<div style=\"background-color: #EDF7FF; border-color: #7C9DBF; border-left: 5px solid #7C9DBF; padding: 0.5em;\">\n",
        "<p><strong>Ejercicio [0.25 pts.]:</strong>\n",
        "Usaremos el popular conjunto de datos [Hourly Energy Consumption](https://www.kaggle.com/datasets/robikscube/hourly-energy-consumption) de Kaggle. Descargalo y cargalo en un pandas.</p>\n",
        "</div>"
      ]
    },
    {
      "cell_type": "code",
      "execution_count": 41,
      "metadata": {},
      "outputs": [],
      "source": [
        "import pandas as pd"
      ]
    },
    {
      "cell_type": "code",
      "execution_count": 42,
      "metadata": {
        "id": "jmZYvs7_VfLS"
      },
      "outputs": [
        {
          "data": {
            "text/html": [
              "<div>\n",
              "<style scoped>\n",
              "    .dataframe tbody tr th:only-of-type {\n",
              "        vertical-align: middle;\n",
              "    }\n",
              "\n",
              "    .dataframe tbody tr th {\n",
              "        vertical-align: top;\n",
              "    }\n",
              "\n",
              "    .dataframe thead th {\n",
              "        text-align: right;\n",
              "    }\n",
              "</style>\n",
              "<table border=\"1\" class=\"dataframe\">\n",
              "  <thead>\n",
              "    <tr style=\"text-align: right;\">\n",
              "      <th></th>\n",
              "      <th>PJME_MW</th>\n",
              "    </tr>\n",
              "    <tr>\n",
              "      <th>Datetime</th>\n",
              "      <th></th>\n",
              "    </tr>\n",
              "  </thead>\n",
              "  <tbody>\n",
              "    <tr>\n",
              "      <th>2002-12-31 01:00:00</th>\n",
              "      <td>26498.0</td>\n",
              "    </tr>\n",
              "    <tr>\n",
              "      <th>2002-12-31 02:00:00</th>\n",
              "      <td>25147.0</td>\n",
              "    </tr>\n",
              "    <tr>\n",
              "      <th>2002-12-31 03:00:00</th>\n",
              "      <td>24574.0</td>\n",
              "    </tr>\n",
              "    <tr>\n",
              "      <th>2002-12-31 04:00:00</th>\n",
              "      <td>24393.0</td>\n",
              "    </tr>\n",
              "    <tr>\n",
              "      <th>2002-12-31 05:00:00</th>\n",
              "      <td>24860.0</td>\n",
              "    </tr>\n",
              "  </tbody>\n",
              "</table>\n",
              "</div>"
            ],
            "text/plain": [
              "                     PJME_MW\n",
              "Datetime                    \n",
              "2002-12-31 01:00:00  26498.0\n",
              "2002-12-31 02:00:00  25147.0\n",
              "2002-12-31 03:00:00  24574.0\n",
              "2002-12-31 04:00:00  24393.0\n",
              "2002-12-31 05:00:00  24860.0"
            ]
          },
          "execution_count": 42,
          "metadata": {},
          "output_type": "execute_result"
        }
      ],
      "source": [
        "# Completa el ejercicio\n",
        "url = \"https://raw.githubusercontent.com/archd3sai/Hourly-Energy-Consumption-Prediction/refs/heads/master/PJME_hourly.csv\"\n",
        "df = pd.read_csv(url, parse_dates=[\"Datetime\"], index_col=\"Datetime\")\n",
        "df.head()"
      ]
    },
    {
      "cell_type": "markdown",
      "metadata": {
        "id": "1H5U9QxkVfLT"
      },
      "source": [
        "## 4.2. Normalización, Scaling y División Entrenamiento-Validacion\n",
        "\n",
        "<div style=\"background-color: #EDF7FF; border-color: #7C9DBF; border-left: 5px solid #7C9DBF; padding: 0.5em;\">\n",
        "<p><strong>Ejercicio [0.5 pts.]:</strong> Normaliza el conjunto de datos, crea secuencias en ventanas y divide en conjuntos de entrenamiento y prueba.</p>\n",
        "</div>\n",
        "\n",
        "\n"
      ]
    },
    {
      "cell_type": "code",
      "execution_count": 47,
      "metadata": {
        "id": "XDUAOohGVfLT"
      },
      "outputs": [
        {
          "name": "stdout",
          "output_type": "stream",
          "text": [
            "X_train shape: (101739, 24, 1), y_train shape: (101739, 1)\n",
            "X_test shape: (43603, 24, 1), y_test shape: (43603, 1)\n"
          ]
        }
      ],
      "source": [
        "import numpy as np\n",
        "from sklearn.preprocessing import MinMaxScaler\n",
        "\n",
        "# Completa el ejercicio\n",
        "\n",
        "scaler = MinMaxScaler(feature_range=(0, 1))\n",
        "pjme_mw_scaled = scaler.fit_transform(df[['PJME_MW']])\n",
        "\n",
        "window_hours = 24\n",
        "X, y = [], []\n",
        "\n",
        "for i in range(len(pjme_mw_scaled) - window_hours):\n",
        "    X.append(pjme_mw_scaled[i:i + window_hours])\n",
        "    y.append(pjme_mw_scaled[i + window_hours])\n",
        "X = np.array(X)\n",
        "y = np.array(y)\n",
        "\n",
        "split_index = int(len(X) * 0.7)\n",
        "X_train, X_test = X[:split_index], X[split_index:]\n",
        "y_train, y_test = y[:split_index], y[split_index:]\n",
        "\n",
        "print(f\"X_train shape: {X_train.shape}, y_train shape: {y_train.shape}\")\n",
        "print(f\"X_test shape: {X_test.shape}, y_test shape: {y_test.shape}\")"
      ]
    },
    {
      "cell_type": "markdown",
      "metadata": {
        "id": "7tLJ1Uw7VfLT"
      },
      "source": [
        "## 4.3. Creación del Modelo (RNN, GRU, LSTM)\n",
        "\n",
        "<div style=\"background-color: #EDF7FF; border-color: #7C9DBF; border-left: 5px solid #7C9DBF; padding: 0.5em;\">\n",
        "<p><strong>Ejercicio [1 pts.]:</strong> Crea tres modelos separados usando RNN Simple, GRU y LSTM. Los modelos tienen que tener 50 unidades de neuronas en la capa recurrente. Compila el modelo utilizando la función de pérdida `MSE` y el optimizador `adam`</p>\n",
        "</div>\n",
        "\n",
        "\n"
      ]
    },
    {
      "cell_type": "code",
      "execution_count": 49,
      "metadata": {
        "id": "mG0vHftcVfLT"
      },
      "outputs": [],
      "source": [
        "from tensorflow.keras.models import Sequential\n",
        "from tensorflow.keras.layers import SimpleRNN, GRU, LSTM, Dense\n",
        "from tensorflow.keras.optimizers import Adam\n",
        "# Completa el ejercicio\n",
        "units = 50\n",
        "input_shape = (X_train.shape[1], X_train.shape[2])\n",
        "\n",
        "model_rnn = Sequential([\n",
        "    SimpleRNN(units, input_shape=input_shape),\n",
        "    Dense(1)\n",
        "])\n",
        "\n",
        "model_gru = Sequential([\n",
        "    GRU(units, input_shape=input_shape),\n",
        "    Dense(1)\n",
        "])\n",
        "\n",
        "model_lstm = Sequential([\n",
        "    LSTM(units, input_shape=input_shape),\n",
        "    Dense(1)\n",
        "])\n",
        "model_rnn.compile(optimizer=Adam(), loss='mean_squared_error')\n",
        "model_gru.compile(optimizer=Adam(), loss='mean_squared_error')\n",
        "model_lstm.compile(optimizer=Adam(), loss='mean_squared_error')\n"
      ]
    },
    {
      "cell_type": "markdown",
      "metadata": {
        "id": "jNJeYVF0VfLT"
      },
      "source": [
        "## 4.4. Entrenar los Modelos y Graficar Curvas de Aprendizaje\n",
        "\n",
        "<div style=\"background-color: #EDF7FF; border-color: #7C9DBF; border-left: 5px solid #7C9DBF; padding: 0.5em;\">\n",
        "<p><strong>Ejercicio [0.5 pts.]:</strong> Entrena cada modelo y visualiza su rendimiento durante el entrenamiento.</p>\n",
        "</div>\n",
        "\n",
        "\n"
      ]
    },
    {
      "cell_type": "code",
      "execution_count": 52,
      "metadata": {
        "id": "Ofjbb9eaVfLU"
      },
      "outputs": [
        {
          "name": "stdout",
          "output_type": "stream",
          "text": [
            "Epoch 1/15\n",
            "4240/4240 [==============================] - 18s 4ms/step - loss: 2.6469e-04 - val_loss: 2.9475e-04\n",
            "Epoch 2/15\n",
            "4240/4240 [==============================] - 19s 4ms/step - loss: 2.5734e-04 - val_loss: 3.2211e-04\n",
            "Epoch 3/15\n",
            "4240/4240 [==============================] - 18s 4ms/step - loss: 2.5194e-04 - val_loss: 2.5076e-04\n",
            "Epoch 4/15\n",
            "4240/4240 [==============================] - 19s 4ms/step - loss: 2.4743e-04 - val_loss: 2.4902e-04\n",
            "Epoch 5/15\n",
            "4240/4240 [==============================] - 19s 4ms/step - loss: 2.4371e-04 - val_loss: 2.5357e-04\n",
            "Epoch 6/15\n",
            "4240/4240 [==============================] - 19s 4ms/step - loss: 2.3897e-04 - val_loss: 2.5401e-04\n",
            "Epoch 7/15\n",
            "4240/4240 [==============================] - 19s 4ms/step - loss: 2.3411e-04 - val_loss: 2.5005e-04\n",
            "Epoch 8/15\n",
            "4240/4240 [==============================] - 19s 4ms/step - loss: 2.3287e-04 - val_loss: 2.5765e-04\n",
            "Epoch 9/15\n",
            "4240/4240 [==============================] - 19s 4ms/step - loss: 2.3078e-04 - val_loss: 2.4476e-04\n",
            "Epoch 10/15\n",
            "4240/4240 [==============================] - 19s 4ms/step - loss: 2.2797e-04 - val_loss: 2.6923e-04\n",
            "Epoch 11/15\n",
            "4240/4240 [==============================] - 19s 4ms/step - loss: 2.2469e-04 - val_loss: 2.4829e-04\n",
            "Epoch 12/15\n",
            "4240/4240 [==============================] - 19s 4ms/step - loss: 2.2417e-04 - val_loss: 2.3594e-04\n",
            "Epoch 13/15\n",
            "4240/4240 [==============================] - 18s 4ms/step - loss: 2.2462e-04 - val_loss: 2.4123e-04\n",
            "Epoch 14/15\n",
            "4240/4240 [==============================] - 18s 4ms/step - loss: 2.2153e-04 - val_loss: 2.2986e-04\n",
            "Epoch 15/15\n",
            "4240/4240 [==============================] - 18s 4ms/step - loss: 2.2085e-04 - val_loss: 2.6512e-04\n",
            "Epoch 1/15\n",
            "4240/4240 [==============================] - 40s 9ms/step - loss: 0.0012 - val_loss: 4.0534e-04\n",
            "Epoch 2/15\n",
            "4240/4240 [==============================] - 39s 9ms/step - loss: 4.1369e-04 - val_loss: 3.8576e-04\n",
            "Epoch 3/15\n",
            "4240/4240 [==============================] - 40s 9ms/step - loss: 3.3984e-04 - val_loss: 4.6515e-04\n",
            "Epoch 4/15\n",
            "4240/4240 [==============================] - 41s 10ms/step - loss: 2.8045e-04 - val_loss: 3.1283e-04\n",
            "Epoch 5/15\n",
            "4240/4240 [==============================] - 41s 10ms/step - loss: 2.5899e-04 - val_loss: 2.6342e-04\n",
            "Epoch 6/15\n",
            "4240/4240 [==============================] - 44s 10ms/step - loss: 2.4045e-04 - val_loss: 2.4958e-04\n",
            "Epoch 7/15\n",
            "4240/4240 [==============================] - 43s 10ms/step - loss: 2.2630e-04 - val_loss: 2.6776e-04\n",
            "Epoch 8/15\n",
            "4240/4240 [==============================] - 41s 10ms/step - loss: 2.1262e-04 - val_loss: 2.2467e-04\n",
            "Epoch 9/15\n",
            "4240/4240 [==============================] - 40s 9ms/step - loss: 1.9974e-04 - val_loss: 2.4500e-04\n",
            "Epoch 10/15\n",
            "4240/4240 [==============================] - 39s 9ms/step - loss: 1.8664e-04 - val_loss: 1.9194e-04\n",
            "Epoch 11/15\n",
            "4240/4240 [==============================] - 40s 9ms/step - loss: 1.7879e-04 - val_loss: 1.9728e-04\n",
            "Epoch 12/15\n",
            "4240/4240 [==============================] - 37s 9ms/step - loss: 1.7306e-04 - val_loss: 1.9120e-04\n",
            "Epoch 13/15\n",
            "4240/4240 [==============================] - 38s 9ms/step - loss: 1.6516e-04 - val_loss: 1.8015e-04\n",
            "Epoch 14/15\n",
            "4240/4240 [==============================] - 37s 9ms/step - loss: 1.6233e-04 - val_loss: 2.0631e-04\n",
            "Epoch 15/15\n",
            "4240/4240 [==============================] - 37s 9ms/step - loss: 1.5694e-04 - val_loss: 1.7900e-04\n",
            "Epoch 1/15\n",
            "4240/4240 [==============================] - 35s 8ms/step - loss: 0.0019 - val_loss: 4.1852e-04\n",
            "Epoch 2/15\n",
            "4240/4240 [==============================] - 34s 8ms/step - loss: 4.1216e-04 - val_loss: 7.5340e-04\n",
            "Epoch 3/15\n",
            "4240/4240 [==============================] - 37s 9ms/step - loss: 3.5156e-04 - val_loss: 3.0628e-04\n",
            "Epoch 4/15\n",
            "4240/4240 [==============================] - 32s 8ms/step - loss: 2.9835e-04 - val_loss: 2.6892e-04\n",
            "Epoch 5/15\n",
            "4240/4240 [==============================] - 32s 8ms/step - loss: 2.5872e-04 - val_loss: 2.8285e-04\n",
            "Epoch 6/15\n",
            "4240/4240 [==============================] - 33s 8ms/step - loss: 2.4497e-04 - val_loss: 2.5769e-04\n",
            "Epoch 7/15\n",
            "4240/4240 [==============================] - 37s 9ms/step - loss: 2.3483e-04 - val_loss: 2.5085e-04\n",
            "Epoch 8/15\n",
            "4240/4240 [==============================] - 37s 9ms/step - loss: 2.2704e-04 - val_loss: 2.4857e-04\n",
            "Epoch 9/15\n",
            "4240/4240 [==============================] - 35s 8ms/step - loss: 2.1715e-04 - val_loss: 2.9095e-04\n",
            "Epoch 10/15\n",
            "4240/4240 [==============================] - 35s 8ms/step - loss: 2.1019e-04 - val_loss: 2.3647e-04\n",
            "Epoch 11/15\n",
            "4240/4240 [==============================] - 35s 8ms/step - loss: 2.0340e-04 - val_loss: 2.2451e-04\n",
            "Epoch 12/15\n",
            "4240/4240 [==============================] - 37s 9ms/step - loss: 1.9898e-04 - val_loss: 2.1253e-04\n",
            "Epoch 13/15\n",
            "4240/4240 [==============================] - 34s 8ms/step - loss: 1.9446e-04 - val_loss: 2.1538e-04\n",
            "Epoch 14/15\n",
            "4240/4240 [==============================] - 35s 8ms/step - loss: 1.9164e-04 - val_loss: 2.0942e-04\n",
            "Epoch 15/15\n",
            "4240/4240 [==============================] - 35s 8ms/step - loss: 1.8585e-04 - val_loss: 2.2817e-04\n"
          ]
        },
        {
          "data": {
            "image/png": "[encoded data removed]",
            "text/plain": [
              "<Figure size 1500x500 with 1 Axes>"
            ]
          },
          "metadata": {},
          "output_type": "display_data"
        }
      ],
      "source": [
        "import matplotlib.pyplot as plt\n",
        "\n",
        "# Completa el ejercicio\n",
        "\n",
        "epochs = 15\n",
        "batch_size = 24\n",
        "\n",
        "rnn_history = model_rnn.fit(\n",
        "    X_train, y_train,\n",
        "    epochs=epochs,\n",
        "    batch_size=batch_size,\n",
        "    validation_data=(X_test, y_test),\n",
        ")\n",
        "\n",
        "gru_history = model_gru.fit(\n",
        "    X_train, y_train,\n",
        "    epochs=epochs,\n",
        "    batch_size=batch_size,\n",
        "    validation_data=(X_test, y_test),\n",
        ")\n",
        "lstm_history = model_lstm.fit(\n",
        "    X_train, y_train,\n",
        "    epochs=epochs,\n",
        "    batch_size=batch_size,\n",
        "    validation_data=(X_test, y_test),\n",
        ")\n",
        "\n",
        "plt.figure(figsize=(15, 5))\n",
        "\n",
        "plt.plot(rnn_history.history['val_loss'], label = 'RNN val loss')\n",
        "plt.plot(rnn_history.history['loss'], label = 'RNN train loss')\n",
        "\n",
        "plt.plot(gru_history.history['val_loss'], label = 'GRU val loss')\n",
        "plt.plot(gru_history.history['loss'], label = 'GRU train loss')\n",
        "\n",
        "plt.plot(lstm_history.history['val_loss'], label = 'LSTM val loss')\n",
        "plt.plot(lstm_history.history['loss'], label = 'LSTM train loss')\n",
        "\n",
        "plt.title('RNN vs GRU vs LSTM value Losses')\n",
        "plt.xlabel('Epochs')\n",
        "plt.ylabel('MSE Loss')\n",
        "plt.legend()\n",
        "plt.show()"
      ]
    },
    {
      "cell_type": "markdown",
      "metadata": {
        "id": "7SAAVH3AVfLU"
      },
      "source": [
        "## 4.5. Hacer Predicciones Futuras y Comparar Rendimiento\n",
        "\n",
        "<div style=\"background-color: #EDF7FF; border-color: #7C9DBF; border-left: 5px solid #7C9DBF; padding: 0.5em;\">\n",
        "<p><strong>Ejercicio [0.5 pts.]:</strong> Predice valores futuros usando el conjunto de prueba y compara el rendimiento.</p>\n",
        "</div>\n",
        "\n",
        "\n"
      ]
    },
    {
      "cell_type": "code",
      "execution_count": 53,
      "metadata": {
        "id": "l5b8XJS6VfLU"
      },
      "outputs": [
        {
          "name": "stdout",
          "output_type": "stream",
          "text": [
            "1363/1363 [==============================] - 2s 1ms/step\n",
            "1363/1363 [==============================] - 3s 2ms/step\n",
            "1363/1363 [==============================] - 3s 2ms/step\n",
            "RNN MSE: 0.0003\n",
            "GRU MSE: 0.0002\n",
            "LSTM MSE: 0.0002\n"
          ]
        }
      ],
      "source": [
        "from sklearn.metrics import mean_squared_error\n",
        "\n",
        "# Completa el ejercicio\n",
        "\n",
        "y_pred_rnn = model_rnn.predict(X_test)\n",
        "y_pred_gru = model_gru.predict(X_test)\n",
        "y_pred_lstm = model_lstm.predict(X_test)\n",
        "\n",
        "mse_rnn = mean_squared_error(y_test, y_pred_rnn)\n",
        "mse_gru = mean_squared_error(y_test, y_pred_gru)\n",
        "mse_lstm = mean_squared_error(y_test, y_pred_lstm)\n",
        "\n",
        "print(f\"RNN MSE: {mse_rnn:.4f}\")\n",
        "print(f\"GRU MSE: {mse_gru:.4f}\")\n",
        "print(f\"LSTM MSE: {mse_lstm:.4f}\")"
      ]
    },
    {
      "cell_type": "markdown",
      "metadata": {
        "id": "LYaK2FT_VfLU"
      },
      "source": [
        "## 4.6. Experimentar con el Tamaño de Ventana\n",
        "\n",
        "<div style=\"background-color: #EDF7FF; border-color: #7C9DBF; border-left: 5px solid #7C9DBF; padding: 0.5em;\">\n",
        "<p><strong>Ejercicio [0.5 pts.]:</strong> Cambia el window_size para explorar cómo depende la predicción del intervalo de tiempo. Prueba por ejemplo con un tamaño de ventana de 48 horas.</p>\n",
        "</div>\n",
        "\n",
        "\n"
      ]
    },
    {
      "cell_type": "code",
      "execution_count": 54,
      "metadata": {
        "id": "Nm7HVzxHVfLU"
      },
      "outputs": [],
      "source": [
        "\n",
        "# Completa el ejercicio\n",
        "window_hours = 48\n",
        "\n",
        "X, y = [], []\n",
        "for i in range(len(pjme_mw_scaled) - window_hours):\n",
        "    X.append(pjme_mw_scaled[i:i + window_hours])\n",
        "    y.append(pjme_mw_scaled[i + window_hours])\n",
        "\n",
        "X = np.array(X)\n",
        "y = np.array(y)\n",
        "\n",
        "split_index = int(len(X) * 0.7)\n",
        "X_train, X_test = X[:split_index], X[split_index:]\n",
        "y_train, y_test = y[:split_index], y[split_index:]\n",
        "\n",
        "rnn_model = Sequential([\n",
        "    SimpleRNN(units, input_shape=(X_train.shape[1], X_train.shape[2])),\n",
        "    Dense(1)\n",
        "])\n",
        "gru_model = Sequential([\n",
        "    GRU(units, input_shape=(X_train.shape[1], X_train.shape[2])),\n",
        "    Dense(1)\n",
        "])\n",
        "\n",
        "lstm_model = Sequential([\n",
        "    LSTM(units, input_shape=(X_train.shape[1], X_train.shape[2])),\n",
        "    Dense(1)\n",
        "])\n",
        "\n",
        "rnn_model.compile(optimizer=Adam(), loss='mean_squared_error')\n",
        "gru_model.compile(optimizer=Adam(), loss='mean_squared_error')\n",
        "lstm_model.compile(optimizer=Adam(), loss='mean_squared_error')"
      ]
    },
    {
      "cell_type": "code",
      "execution_count": 55,
      "metadata": {},
      "outputs": [
        {
          "name": "stdout",
          "output_type": "stream",
          "text": [
            "Epoch 1/15\n",
            "4239/4239 [==============================] - 21s 5ms/step - loss: 7.7187e-04 - val_loss: 2.5938e-04\n",
            "Epoch 2/15\n",
            "4239/4239 [==============================] - 23s 5ms/step - loss: 2.6580e-04 - val_loss: 2.9998e-04\n",
            "Epoch 3/15\n",
            "4239/4239 [==============================] - 31s 7ms/step - loss: 2.6709e-04 - val_loss: 2.7556e-04\n",
            "Epoch 4/15\n",
            "4239/4239 [==============================] - 32s 7ms/step - loss: 2.6995e-04 - val_loss: 3.1465e-04\n",
            "Epoch 5/15\n",
            "4239/4239 [==============================] - 32s 7ms/step - loss: 2.6685e-04 - val_loss: 3.3292e-04\n",
            "Epoch 6/15\n",
            "4239/4239 [==============================] - 32s 8ms/step - loss: 2.6092e-04 - val_loss: 2.7199e-04\n",
            "Epoch 7/15\n",
            "4239/4239 [==============================] - 32s 8ms/step - loss: 2.5711e-04 - val_loss: 3.0997e-04\n",
            "Epoch 8/15\n",
            "4239/4239 [==============================] - 32s 7ms/step - loss: 2.5189e-04 - val_loss: 2.6014e-04\n",
            "Epoch 9/15\n",
            "4239/4239 [==============================] - 32s 7ms/step - loss: 2.4688e-04 - val_loss: 2.5034e-04\n",
            "Epoch 10/15\n",
            "4239/4239 [==============================] - 32s 7ms/step - loss: 2.4005e-04 - val_loss: 2.9978e-04\n",
            "Epoch 11/15\n",
            "4239/4239 [==============================] - 33s 8ms/step - loss: 2.3709e-04 - val_loss: 2.5568e-04\n",
            "Epoch 12/15\n",
            "4239/4239 [==============================] - 31s 7ms/step - loss: 2.2964e-04 - val_loss: 3.0902e-04\n",
            "Epoch 13/15\n",
            "4239/4239 [==============================] - 32s 7ms/step - loss: 2.2389e-04 - val_loss: 2.7107e-04\n",
            "Epoch 14/15\n",
            "4239/4239 [==============================] - 32s 7ms/step - loss: 2.2098e-04 - val_loss: 2.2284e-04\n",
            "Epoch 15/15\n",
            "4239/4239 [==============================] - 32s 7ms/step - loss: 2.1906e-04 - val_loss: 2.3439e-04\n",
            "Epoch 1/15\n",
            "4239/4239 [==============================] - 75s 17ms/step - loss: 0.0011 - val_loss: 4.4549e-04\n",
            "Epoch 2/15\n",
            "4239/4239 [==============================] - 68s 16ms/step - loss: 4.7091e-04 - val_loss: 4.8250e-04\n",
            "Epoch 3/15\n",
            "4239/4239 [==============================] - 67s 16ms/step - loss: 3.6322e-04 - val_loss: 2.9705e-04\n",
            "Epoch 4/15\n",
            "4239/4239 [==============================] - 68s 16ms/step - loss: 2.7384e-04 - val_loss: 2.5862e-04\n",
            "Epoch 5/15\n",
            "4239/4239 [==============================] - 68s 16ms/step - loss: 2.4575e-04 - val_loss: 2.3758e-04\n",
            "Epoch 6/15\n",
            "4239/4239 [==============================] - 75s 18ms/step - loss: 2.2803e-04 - val_loss: 2.2609e-04\n",
            "Epoch 7/15\n",
            "4239/4239 [==============================] - 68s 16ms/step - loss: 2.1283e-04 - val_loss: 2.3202e-04\n",
            "Epoch 8/15\n",
            "4239/4239 [==============================] - 68s 16ms/step - loss: 1.9783e-04 - val_loss: 2.1851e-04\n",
            "Epoch 9/15\n",
            "4239/4239 [==============================] - 68s 16ms/step - loss: 1.8519e-04 - val_loss: 2.0619e-04\n",
            "Epoch 10/15\n",
            "4239/4239 [==============================] - 68s 16ms/step - loss: 1.7722e-04 - val_loss: 1.8798e-04\n",
            "Epoch 11/15\n",
            "4239/4239 [==============================] - 68s 16ms/step - loss: 1.7114e-04 - val_loss: 1.7902e-04\n",
            "Epoch 12/15\n",
            "4239/4239 [==============================] - 70s 17ms/step - loss: 1.6524e-04 - val_loss: 1.9570e-04\n",
            "Epoch 13/15\n",
            "4239/4239 [==============================] - 68s 16ms/step - loss: 1.5778e-04 - val_loss: 1.9264e-04\n",
            "Epoch 14/15\n",
            "4239/4239 [==============================] - 68s 16ms/step - loss: 1.5449e-04 - val_loss: 2.0842e-04\n",
            "Epoch 15/15\n",
            "4239/4239 [==============================] - 68s 16ms/step - loss: 1.5065e-04 - val_loss: 1.6669e-04\n",
            "Epoch 1/15\n",
            "4239/4239 [==============================] - 62s 14ms/step - loss: 0.0013 - val_loss: 3.8931e-04\n",
            "Epoch 2/15\n",
            "4239/4239 [==============================] - 59s 14ms/step - loss: 3.4236e-04 - val_loss: 3.1491e-04\n",
            "Epoch 3/15\n",
            "4239/4239 [==============================] - 61s 14ms/step - loss: 2.7633e-04 - val_loss: 4.9368e-04\n",
            "Epoch 4/15\n",
            "4239/4239 [==============================] - 60s 14ms/step - loss: 2.4771e-04 - val_loss: 2.3122e-04\n",
            "Epoch 5/15\n",
            "4239/4239 [==============================] - 63s 15ms/step - loss: 2.2018e-04 - val_loss: 2.2870e-04\n",
            "Epoch 6/15\n",
            "4239/4239 [==============================] - 59s 14ms/step - loss: 2.0308e-04 - val_loss: 2.1196e-04\n",
            "Epoch 7/15\n",
            "4239/4239 [==============================] - 59s 14ms/step - loss: 1.9572e-04 - val_loss: 2.2300e-04\n",
            "Epoch 8/15\n",
            "4239/4239 [==============================] - 59s 14ms/step - loss: 1.8482e-04 - val_loss: 2.0676e-04\n",
            "Epoch 9/15\n",
            "4239/4239 [==============================] - 59s 14ms/step - loss: 1.7714e-04 - val_loss: 1.8173e-04\n",
            "Epoch 10/15\n",
            "4239/4239 [==============================] - 59s 14ms/step - loss: 1.6790e-04 - val_loss: 1.8141e-04\n",
            "Epoch 11/15\n",
            "4239/4239 [==============================] - 59s 14ms/step - loss: 1.6366e-04 - val_loss: 1.8066e-04\n",
            "Epoch 12/15\n",
            "4239/4239 [==============================] - 59s 14ms/step - loss: 1.5854e-04 - val_loss: 1.9677e-04\n",
            "Epoch 13/15\n",
            "4239/4239 [==============================] - 59s 14ms/step - loss: 1.5339e-04 - val_loss: 1.7727e-04\n",
            "Epoch 14/15\n",
            "4239/4239 [==============================] - 59s 14ms/step - loss: 1.4995e-04 - val_loss: 1.6743e-04\n",
            "Epoch 15/15\n",
            "4239/4239 [==============================] - 60s 14ms/step - loss: 1.4725e-04 - val_loss: 1.9267e-04\n"
          ]
        }
      ],
      "source": [
        "epochs = 15\n",
        "rnn_history = rnn_model.fit(X_train, y_train, epochs=epochs, batch_size=batch_size, validation_data=(X_test, y_test))\n",
        "gru_history = gru_model.fit(X_train, y_train, epochs=epochs, batch_size=batch_size, validation_data=(X_test, y_test))\n",
        "lstm_history = lstm_model.fit(X_train, y_train, epochs=epochs, batch_size=batch_size, validation_data=(X_test, y_test))"
      ]
    },
    {
      "cell_type": "code",
      "execution_count": 56,
      "metadata": {},
      "outputs": [
        {
          "name": "stdout",
          "output_type": "stream",
          "text": [
            "1363/1363 [==============================] - 2s 2ms/step\n",
            "1363/1363 [==============================] - 4s 3ms/step\n",
            "1363/1363 [==============================] - 4s 3ms/step\n",
            "RNN MSE: 0.0002\n",
            "GRU MSE: 0.0002\n",
            "LSTM MSE: 0.0002\n"
          ]
        }
      ],
      "source": [
        "y_pred_rnn = rnn_model.predict(X_test)\n",
        "y_pred_gru = gru_model.predict(X_test)\n",
        "y_pred_lstm = lstm_model.predict(X_test)\n",
        "mse_rnn = mean_squared_error(y_test, y_pred_rnn)\n",
        "mse_gru = mean_squared_error(y_test, y_pred_gru)\n",
        "mse_lstm = mean_squared_error(y_test, y_pred_lstm)\n",
        "print(f\"RNN MSE: {mse_rnn:.4f}\")\n",
        "print(f\"GRU MSE: {mse_gru:.4f}\")\n",
        "print(f\"LSTM MSE: {mse_lstm:.4f}\")"
      ]
    },
    {
      "cell_type": "markdown",
      "metadata": {},
      "source": [
        "The fact that increasing to 48 hours did not change much the performance beasically means that the model already captures enough relevevant patterns with 24, to see relevant changes we should try a bigger window but it wouldnt be that much of a difference"
      ]
    },
    {
      "cell_type": "markdown",
      "metadata": {
        "id": "6tN5k8dxVfLU"
      },
      "source": [
        "## 4.7. Modelo LSTM Profundo con Optimización de Hiperparámetros usando Optuna\n",
        "\n",
        "Construir un modelo LSTM más profundo (con más capas) y utilizar Optuna para optimizar hiperparámetros clave. Luego comparar su rendimiento con los modelos anteriores (RNN, GRU y LSTM básico)\n",
        "\n",
        "<div style=\"background-color: #EDF7FF; border-color: #7C9DBF; border-left: 5px solid #7C9DBF; padding: 0.5em;\">\n",
        "<p><strong>Ejercicio [1.75 pts.]:</strong> Definición del Modelo LSTM Profundo. Vamos a crear un modelo con:\n",
        "\n",
        "<ul>\n",
        " <li>2 capas LSTM (con return_sequences=True en la primera para apilarlas).</li>\n",
        " <li>Capa Densa final.</li>\n",
        " <li>Dropout para regularización (evitar overfitting).</li>\n",
        " </ul>\n",
        "\n",
        "Después toca definir hiperparámetros a Optimizar con Optuna.Optuna buscará la mejor combinación de:\n",
        "\n",
        " <ul>\n",
        "  <li>Número de neuronas en cada capa LSTM: Entre 32 y 128.</li>\n",
        "  <li>Tasa de Dropout: Entre 0.1 y 0.5.</li>\n",
        "  <li>Tasa de aprendizaje (learning rate): Entre 1e-4 y 1e-2 (log scale).</li>\n",
        "  <li>Batch size: 32, 64 o 128.</li>\n",
        " </ul>\n",
        "\n",
        "\n",
        " Por último, evalúa y compara con los modelos anteriores. Para ello te proporcionamos el código para mejor legibilidad.\n",
        "\n",
        " </p>\n",
        "\n",
        "</div>\n",
        "\n",
        "\n",
        "\n"
      ]
    },
    {
      "cell_type": "code",
      "execution_count": null,
      "metadata": {
        "id": "wOUZ9RchFQCF"
      },
      "outputs": [],
      "source": [
        "# !pip install optuna # Recuerda instalar en caso de no tenerlo"
      ]
    },
    {
      "cell_type": "code",
      "execution_count": 62,
      "metadata": {},
      "outputs": [
        {
          "name": "stderr",
          "output_type": "stream",
          "text": [
            "/home/stwart/anaconda3/envs/DLPEC2/lib/python3.8/site-packages/tqdm/auto.py:21: TqdmWarning: IProgress not found. Please update jupyter and ipywidgets. See https://ipywidgets.readthedocs.io/en/stable/user_install.html\n",
            "  from .autonotebook import tqdm as notebook_tqdm\n"
          ]
        }
      ],
      "source": [
        "from tensorflow.keras.layers import Dropout\n",
        "import optuna"
      ]
    },
    {
      "cell_type": "code",
      "execution_count": 59,
      "metadata": {
        "id": "_WijUaEMFNYh"
      },
      "outputs": [],
      "source": [
        "# Completa el ejercicio\n",
        "\n",
        "window_size = 24  # Usando las últimas 24 horas para predecir la siguiente hora\n",
        "X, y = [], []\n",
        "\n",
        "for i in range(len(pjme_mw_scaled) - window_size):\n",
        "    X.append(pjme_mw_scaled[i:i + window_size])\n",
        "    y.append(pjme_mw_scaled[i + window_size])\n",
        "\n",
        "X, y = np.array(X), np.array(y)\n",
        "\n",
        "split_index = int(len(X) * 0.8)\n",
        "X_train, X_test = X[:split_index], X[split_index:]\n",
        "y_train, y_test = y[:split_index], y[split_index:]\n",
        "\n",
        "# Modelo optuna\n",
        "def lstm_model_optuna(trial):\n",
        "    model = Sequential()\n",
        "\n",
        "    units_1 = trial.suggest_int('units_1', 32, 128)\n",
        "    units_2 = trial.suggest_int('units_2', 32, 128)\n",
        "\n",
        "    dropout_rate = trial.suggest_uniform('dropout_rate', 0.1, 0.5)\n",
        "    learning_rate = trial.suggest_loguniform('learning_rate', 1e-4, 1e-2)\n",
        "\n",
        "    model.add(LSTM(units_1, activation='relu', return_sequences=True, input_shape=(X_train.shape[1], X_train.shape[2])))\n",
        "    model.add(Dropout(dropout_rate))\n",
        "\n",
        "    model.add(LSTM(units_2, activation='relu'))\n",
        "\n",
        "    model.add(Dropout(dropout_rate))\n",
        "    model.add(Dense(1))\n",
        "\n",
        "    model.compile(optimizer=Adam(learning_rate=learning_rate), loss='mean_squared_error')\n",
        "\n",
        "    return model"
      ]
    },
    {
      "cell_type": "code",
      "execution_count": 68,
      "metadata": {},
      "outputs": [],
      "source": [
        "def optuna_optimization_model(trial):\n",
        "    model = lstm_model_optuna(trial)\n",
        "\n",
        "    batch_size = trial.suggest_categorical('batch_size', [32, 64, 128])\n",
        "    learning_rate = trial.suggest_loguniform('learning_rate', 1e-4, 1e-2)\n",
        "\n",
        "    model.compile(optimizer=Adam(learning_rate=learning_rate), loss='mean_squared_error')\n",
        "    \n",
        "    history = model.fit(X_train, y_train, epochs=10, \n",
        "                        batch_size=batch_size, validation_data=(X_test, y_test), verbose=0)\n",
        "    val_loss = history.history['val_loss'][-1]\n",
        "    return val_loss"
      ]
    },
    {
      "cell_type": "code",
      "execution_count": 70,
      "metadata": {},
      "outputs": [
        {
          "name": "stderr",
          "output_type": "stream",
          "text": [
            "[I 2025-04-21 20:53:29,067] A new study created in memory with name: no-name-97bbfbbf-6905-4b83-a31f-384e53ea1787\n",
            "/tmp/ipykernel_3960/3062798650.py:23: FutureWarning: suggest_uniform has been deprecated in v3.0.0. This feature will be removed in v6.0.0. See https://github.com/optuna/optuna/releases/tag/v3.0.0. Use suggest_float instead.\n",
            "  dropout_rate = trial.suggest_uniform('dropout_rate', 0.1, 0.5)\n",
            "/tmp/ipykernel_3960/3062798650.py:24: FutureWarning: suggest_loguniform has been deprecated in v3.0.0. This feature will be removed in v6.0.0. See https://github.com/optuna/optuna/releases/tag/v3.0.0. Use suggest_float(..., log=True) instead.\n",
            "  learning_rate = trial.suggest_loguniform('learning_rate', 1e-4, 1e-2)\n",
            "/tmp/ipykernel_3960/772372060.py:5: FutureWarning: suggest_loguniform has been deprecated in v3.0.0. This feature will be removed in v6.0.0. See https://github.com/optuna/optuna/releases/tag/v3.0.0. Use suggest_float(..., log=True) instead.\n",
            "  learning_rate = trial.suggest_loguniform('learning_rate', 1e-4, 1e-2)\n",
            "[I 2025-04-21 20:58:43,055] Trial 0 finished with value: 0.0011331806890666485 and parameters: {'units_1': 77, 'units_2': 67, 'dropout_rate': 0.21932034301263936, 'learning_rate': 0.00012265226100911857, 'batch_size': 128}. Best is trial 0 with value: 0.0011331806890666485.\n",
            "[I 2025-04-21 21:05:02,243] Trial 1 finished with value: 0.0004046575340908021 and parameters: {'units_1': 51, 'units_2': 52, 'dropout_rate': 0.2776170301824451, 'learning_rate': 0.001915865910137798, 'batch_size': 64}. Best is trial 1 with value: 0.0004046575340908021.\n",
            "[I 2025-04-21 21:17:29,566] Trial 2 finished with value: 0.00033059308771044016 and parameters: {'units_1': 92, 'units_2': 53, 'dropout_rate': 0.39519265202801535, 'learning_rate': 0.0017775755519191753, 'batch_size': 32}. Best is trial 2 with value: 0.00033059308771044016.\n",
            "[I 2025-04-21 21:25:43,504] Trial 3 finished with value: 0.000635612930636853 and parameters: {'units_1': 35, 'units_2': 123, 'dropout_rate': 0.12242612752499032, 'learning_rate': 0.0014565274657348548, 'batch_size': 64}. Best is trial 2 with value: 0.00033059308771044016.\n",
            "[I 2025-04-21 21:34:29,270] Trial 4 finished with value: 0.0002973537484649569 and parameters: {'units_1': 119, 'units_2': 58, 'dropout_rate': 0.18689377166844132, 'learning_rate': 0.00037324808634836836, 'batch_size': 64}. Best is trial 4 with value: 0.0002973537484649569.\n"
          ]
        },
        {
          "name": "stdout",
          "output_type": "stream",
          "text": [
            "Best hyperparameters:  {'units_1': 119, 'units_2': 58, 'dropout_rate': 0.18689377166844132, 'learning_rate': 0.00037324808634836836, 'batch_size': 64}\n",
            "Epoch 1/10\n",
            "1817/1817 [==============================] - 58s 31ms/step - loss: 0.0052 - val_loss: 0.0016\n",
            "Epoch 2/10\n",
            "1817/1817 [==============================] - 56s 31ms/step - loss: 0.0019 - val_loss: 0.0010\n",
            "Epoch 3/10\n",
            "1817/1817 [==============================] - 56s 31ms/step - loss: 0.0013 - val_loss: 7.3100e-04\n",
            "Epoch 4/10\n",
            "1817/1817 [==============================] - 56s 31ms/step - loss: 9.9243e-04 - val_loss: 6.4740e-04\n",
            "Epoch 5/10\n",
            "1817/1817 [==============================] - 56s 31ms/step - loss: 7.9704e-04 - val_loss: 6.1803e-04\n",
            "Epoch 6/10\n",
            "1817/1817 [==============================] - 56s 31ms/step - loss: 6.8044e-04 - val_loss: 3.9959e-04\n",
            "Epoch 7/10\n",
            "1817/1817 [==============================] - 56s 31ms/step - loss: 6.2763e-04 - val_loss: 3.6160e-04\n",
            "Epoch 8/10\n",
            "1817/1817 [==============================] - 57s 31ms/step - loss: 5.9006e-04 - val_loss: 3.3037e-04\n",
            "Epoch 9/10\n",
            "1817/1817 [==============================] - 57s 31ms/step - loss: 5.5781e-04 - val_loss: 3.8613e-04\n",
            "Epoch 10/10\n",
            "1817/1817 [==============================] - 57s 31ms/step - loss: 5.2405e-04 - val_loss: 3.5488e-04\n"
          ]
        },
        {
          "data": {
            "text/plain": [
              "<keras.callbacks.History at 0x7458254c1910>"
            ]
          },
          "execution_count": 70,
          "metadata": {},
          "output_type": "execute_result"
        }
      ],
      "source": [
        "optuna_solver = optuna.create_study(direction='minimize')\n",
        "optuna_solver.optimize(optuna_optimization_model, n_trials=5)\n",
        "\n",
        "best_hyper_param = optuna_solver.best_trial.params\n",
        "print(\"Best hyperparameters: \", best_hyper_param)\n",
        "\n",
        "best_model = lstm_model_optuna(optuna_solver.best_trial)\n",
        "best_model.fit(X_train, y_train, epochs=10, batch_size=best_hyper_param['batch_size'], validation_data=(X_test, y_test))"
      ]
    },
    {
      "cell_type": "code",
      "execution_count": 71,
      "metadata": {
        "id": "B781DcwCVfLV"
      },
      "outputs": [
        {
          "name": "stdout",
          "output_type": "stream",
          "text": [
            "909/909 [==============================] - 4s 5ms/step\n",
            "MSE (Deep LSTM + Optuna): 0.000355\n",
            "Comparación de MSE:\n",
            "909/909 [==============================] - 1s 1ms/step\n",
            "- RNN: 0.000276\n",
            "909/909 [==============================] - 2s 2ms/step\n",
            "- GRU: 0.000192\n",
            "909/909 [==============================] - 2s 2ms/step\n",
            "- LSTM básico: 0.000242\n",
            "- LSTM profundo + Optuna: 0.000355\n",
            "7/7 [==============================] - 0s 5ms/step\n",
            "7/7 [==============================] - 0s 2ms/step\n"
          ]
        },
        {
          "data": {
            "image/png": "[encoded data removed]",
            "text/plain": [
              "<Figure size 1200x600 with 1 Axes>"
            ]
          },
          "metadata": {},
          "output_type": "display_data"
        }
      ],
      "source": [
        "# Evaluar el modelo profundo\n",
        "deep_lstm_mse = mean_squared_error(y_test, best_model.predict(X_test))\n",
        "print(f\"MSE (Deep LSTM + Optuna): {deep_lstm_mse:.6f}\")\n",
        "\n",
        "# Comparar con modelos anteriores (ejercicio 5)\n",
        "print(\"Comparación de MSE:\")\n",
        "print(f\"- RNN: {mean_squared_error(y_test, model_rnn.predict(X_test)):.6f}\")\n",
        "print(f\"- GRU: {mean_squared_error(y_test, model_gru.predict(X_test)):.6f}\")\n",
        "print(f\"- LSTM básico: {mean_squared_error(y_test, model_lstm.predict(X_test)):.6f}\")\n",
        "print(f\"- LSTM profundo + Optuna: {deep_lstm_mse:.6f}\")\n",
        "\n",
        "# Gráfico comparativo de predicciones (primeras 200 muestras)\n",
        "plt.figure(figsize=(12, 6))\n",
        "plt.plot(y_test[:200], label='Real', color='black', linestyle='--')\n",
        "plt.plot(best_model.predict(X_test[:200]), label='Deep LSTM + Optuna', color='red')\n",
        "plt.plot(model_lstm.predict(X_test[:200]), label='LSTM básico', color='blue', alpha=0.7)\n",
        "plt.legend()\n",
        "plt.title(\"Comparación: Deep LSTM vs LSTM básico\")\n",
        "plt.show()"
      ]
    },
    {
      "cell_type": "markdown",
      "metadata": {},
      "source": [
        "LSTM combined with the optuna optimizer smooth out some of the sharper transitions, which basically means that will improve the overall aligment in the real data peaks, although it's also noticeable that the performance is simply slightly better than a normal LSTM so in this case optuna optimization is not really worth the time consuming hyperparameters fining."
      ]
    },
    {
      "cell_type": "markdown",
      "metadata": {},
      "source": [
        "# External Resources"
      ]
    },
    {
      "cell_type": "markdown",
      "metadata": {},
      "source": [
        "- https://www.themachinelearners.com/modelos-secuencia/\n",
        "\n",
        "- https://www.kaggle.com/code/thebrownviking20/intro-to-recurrent-neural-networks-lstm-gru\n"
      ]
    }
  ],
  "metadata": {
    "colab": {
      "provenance": []
    },
    "kernelspec": {
      "display_name": "DLPEC2",
      "language": "python",
      "name": "python3"
    },
    "language_info": {
      "codemirror_mode": {
        "name": "ipython",
        "version": 3
      },
      "file_extension": ".py",
      "mimetype": "text/x-python",
      "name": "python",
      "nbconvert_exporter": "python",
      "pygments_lexer": "ipython3",
      "version": "3.8.20"
    },
    "toc": {
      "base_numbering": 1,
      "nav_menu": {},
      "number_sections": true,
      "sideBar": true,
      "skip_h1_title": true,
      "title_cell": "Table of Contents",
      "title_sidebar": "Contents",
      "toc_cell": false,
      "toc_position": {},
      "toc_section_display": true,
      "toc_window_display": false
    }
  },
  "nbformat": 4,
  "nbformat_minor": 0
}
